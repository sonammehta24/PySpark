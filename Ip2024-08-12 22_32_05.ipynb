{
 "cells": [
  {
   "cell_type": "code",
   "execution_count": 0,
   "metadata": {
    "application/vnd.databricks.v1+cell": {
     "cellMetadata": {
      "byteLimit": 2048000,
      "rowLimit": 10000
     },
     "inputWidgets": {},
     "nuid": "7f214299-206a-4b18-a4b0-c326bf8fb284",
     "showTitle": false,
     "title": ""
    }
   },
   "outputs": [
    {
     "output_type": "stream",
     "name": "stdout",
     "output_type": "stream",
     "text": [
      "+-------------+---------------------+----------+\n|customer_name|customer_phone_number|difference|\n+-------------+---------------------+----------+\n|        Alice|         123-456-7890|      1685|\n|          Bob|         987-654-3210|      1154|\n|      Charlie|         555-666-7777|       506|\n+-------------+---------------------+----------+\n\n"
     ]
    }
   ],
   "source": [
    "#Your task is to:\n",
    "#1. Join these DataFrames on `customer_id`.\n",
    "#2. Calculate the difference in days between the `account_open_date` and the current date.\n",
    "#3. Select the required columns: `customer_name`, `customer_phone_number`, and `difference` (number of days since the account was opened).#\n",
    "\n",
    "from pyspark.sql import SparkSession\n",
    "from pyspark.sql.functions import datediff, current_date, to_date\n",
    "\n",
    "spark = SparkSession.builder.appName('AppName1').getOrCreate()\n",
    "\n",
    "# Sample data for customer_df\n",
    "customer_data = [(\"Alice\", 1, \"123-456-7890\"), (\"Bob\", 2, \"987-654-3210\"), (\"Charlie\", 3, \"555-666-7777\")]\n",
    "# Sample data for account_df\n",
    "account_data = [(1, \"2020-01-01\"), (2, \"2021-06-15\"), (3, \"2023-03-25\")]\n",
    "\n",
    "#Customer Schema and Account schema\n",
    "customer_schema = [\"customer_name\", \"customer_id\", \"customer_phone_number\"]\n",
    "account_schema = [\"customer_id\", \"account_open_date\"]\n",
    "\n",
    "#Create Dataframes\n",
    "customer_df = spark.createDataFrame(customer_data, customer_schema)\n",
    "account_df = spark.createDataFrame(account_data, account_schema)\n",
    "\n",
    "#Task1: Join dataframes by customer_id\n",
    "joined_df = customer_df.join(account_df, on='customer_id', how='inner')\n",
    "\n",
    "#Task2: Calculate the difference in days between the `account_open_date` and the current date.\n",
    "#Convert accountopendate to DateType\n",
    "account_df = account_df.withColumn(\"account_open_date\", to_date(account_df[\"account_open_date\"], \"yyyy-MM-dd\"))\n",
    "#joined_df.show()\n",
    "\n",
    "final_df = joined_df.withColumn(\"difference\", datediff(current_date(), joined_df[\"account_open_date\"]))\n",
    "result_df = final_df.select(\"customer_name\", \"customer_phone_number\", \"difference\")\n",
    "result_df.show()"
   ]
  }
 ],
 "metadata": {
  "application/vnd.databricks.v1+notebook": {
   "dashboards": [],
   "environmentMetadata": null,
   "language": "python",
   "notebookMetadata": {
    "pythonIndentUnit": 4
   },
   "notebookName": "Ip2024-08-12 22:32:05",
   "widgets": {}
  }
 },
 "nbformat": 4,
 "nbformat_minor": 0
}
