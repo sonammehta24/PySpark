{
  "cells": [
    {
      "cell_type": "code",
      "source": [
        "%%pyspark\r\n",
        "df = spark.read.load('abfss://files@datalakea83eylv.dfs.core.windows.net/products/products.csv', format='csv'\r\n",
        "## If header exists uncomment line below\r\n",
        ", header=True\r\n",
        ")\r\n",
        "display(df.limit(10))"
      ],
      "outputs": [
        {
          "output_type": "display_data",
          "data": {
            "application/vnd.livy.statement-meta+json": {
              "spark_pool": "sparka83eylv",
              "statement_id": 15,
              "statement_ids": [
                15
              ],
              "state": "finished",
              "livy_statement_state": "available",
              "spark_jobs": null,
              "session_id": "0",
              "normalized_state": "finished",
              "queued_time": "2025-01-05T11:56:30.6500562Z",
              "session_start_time": null,
              "execution_start_time": "2025-01-05T11:56:30.797455Z",
              "execution_finish_time": "2025-01-05T11:56:31.9777461Z",
              "parent_msg_id": "9af9f38c-028c-4cb7-8412-9cb87610037f"
            },
            "text/plain": "StatementMeta(sparka83eylv, 0, 15, Finished, Available, Finished)"
          },
          "metadata": {}
        },
        {
          "output_type": "display_data",
          "data": {
            "application/vnd.synapse.widget-view+json": {
              "widget_id": "0d060041-3305-4824-9ce5-07855b44c461",
              "widget_type": "Synapse.DataFrame"
            },
            "text/plain": "SynapseWidget(Synapse.DataFrame, 0d060041-3305-4824-9ce5-07855b44c461)"
          },
          "metadata": {}
        }
      ],
      "execution_count": 14,
      "metadata": {
        "microsoft": {
          "language": "python"
        },
        "collapsed": false
      }
    },
    {
      "cell_type": "code",
      "source": [
        " delta_table_path = \"/delta/products-delta\"\r\n",
        " df.write.format(\"delta\").save(delta_table_path)"
      ],
      "outputs": [
        {
          "output_type": "display_data",
          "data": {
            "application/vnd.livy.statement-meta+json": {
              "spark_pool": "sparka83eylv",
              "statement_id": 16,
              "statement_ids": [
                16
              ],
              "state": "finished",
              "livy_statement_state": "available",
              "spark_jobs": null,
              "session_id": "0",
              "normalized_state": "finished",
              "queued_time": "2025-01-05T11:56:35.6544498Z",
              "session_start_time": null,
              "execution_start_time": "2025-01-05T11:56:35.7971724Z",
              "execution_finish_time": "2025-01-05T11:56:37.6914541Z",
              "parent_msg_id": "df0c7ae1-e0fc-4f50-9631-2247a9ed12d2"
            },
            "text/plain": "StatementMeta(sparka83eylv, 0, 16, Finished, Available, Finished)"
          },
          "metadata": {}
        }
      ],
      "execution_count": 15,
      "metadata": {
        "jupyter": {
          "source_hidden": false,
          "outputs_hidden": false
        },
        "nteract": {
          "transient": {
            "deleting": false
          }
        }
      }
    },
    {
      "cell_type": "code",
      "source": [
        "from delta.tables import *\r\n",
        "from pyspark.sql.functions import *\r\n",
        "\r\n",
        "deltaTable = DeltaTable.forPath(spark, delta_table_path)\r\n",
        "\r\n",
        "deltaTable.update(\r\n",
        "    condition= \"ProductID == 772\",\r\n",
        "    set={ \"ListPrice\": \"ListPrice * 0.3\"}\r\n",
        ")\r\n",
        "\r\n",
        "deltaTable.toDF().show(10)\r\n"
      ],
      "outputs": [
        {
          "output_type": "display_data",
          "data": {
            "application/vnd.livy.statement-meta+json": {
              "spark_pool": "sparka83eylv",
              "statement_id": 28,
              "statement_ids": [
                28
              ],
              "state": "finished",
              "livy_statement_state": "available",
              "spark_jobs": null,
              "session_id": "0",
              "normalized_state": "finished",
              "queued_time": "2025-01-05T12:05:41.1803858Z",
              "session_start_time": null,
              "execution_start_time": "2025-01-05T12:05:41.3162579Z",
              "execution_finish_time": "2025-01-05T12:05:46.7608149Z",
              "parent_msg_id": "c75317e9-d18d-4ef9-b635-5342157503a3"
            },
            "text/plain": "StatementMeta(sparka83eylv, 0, 28, Finished, Available, Finished)"
          },
          "metadata": {}
        },
        {
          "output_type": "stream",
          "name": "stdout",
          "text": [
            "+---------+--------------------+--------------+---------+\n|ProductID|         ProductName|      Category|ListPrice|\n+---------+--------------------+--------------+---------+\n|      771|Mountain-100 Silv...|Mountain Bikes| 3059.991|\n|      772|Mountain-100 Silv...|Mountain Bikes| 815.9976|\n|      773|Mountain-100 Silv...|Mountain Bikes|3399.9900|\n|      774|Mountain-100 Silv...|Mountain Bikes|3399.9900|\n|      775|Mountain-100 Blac...|Mountain Bikes|3374.9900|\n|      776|Mountain-100 Blac...|Mountain Bikes|3374.9900|\n|      777|Mountain-100 Blac...|Mountain Bikes|3374.9900|\n|      778|Mountain-100 Blac...|Mountain Bikes|3374.9900|\n|      779|Mountain-200 Silv...|Mountain Bikes|2319.9900|\n|      780|Mountain-200 Silv...|Mountain Bikes|2319.9900|\n+---------+--------------------+--------------+---------+\nonly showing top 10 rows\n\n"
          ]
        }
      ],
      "execution_count": 27,
      "metadata": {
        "jupyter": {
          "source_hidden": false,
          "outputs_hidden": false
        },
        "nteract": {
          "transient": {
            "deleting": false
          }
        }
      }
    },
    {
      "cell_type": "code",
      "source": [
        "new_df = spark.read.format('delta').load(delta_table_path)\r\n",
        "new_df.show(5)"
      ],
      "outputs": [
        {
          "output_type": "display_data",
          "data": {
            "application/vnd.livy.statement-meta+json": {
              "spark_pool": "sparka83eylv",
              "statement_id": 29,
              "statement_ids": [
                29
              ],
              "state": "finished",
              "livy_statement_state": "available",
              "spark_jobs": null,
              "session_id": "0",
              "normalized_state": "finished",
              "queued_time": "2025-01-05T12:05:56.8796998Z",
              "session_start_time": null,
              "execution_start_time": "2025-01-05T12:05:57.0143773Z",
              "execution_finish_time": "2025-01-05T12:05:57.5963429Z",
              "parent_msg_id": "7f60323a-5a00-4af9-bd88-246505982c0b"
            },
            "text/plain": "StatementMeta(sparka83eylv, 0, 29, Finished, Available, Finished)"
          },
          "metadata": {}
        },
        {
          "output_type": "stream",
          "name": "stdout",
          "text": [
            "+---------+--------------------+--------------+---------+\n|ProductID|         ProductName|      Category|ListPrice|\n+---------+--------------------+--------------+---------+\n|      771|Mountain-100 Silv...|Mountain Bikes| 3059.991|\n|      772|Mountain-100 Silv...|Mountain Bikes| 815.9976|\n|      773|Mountain-100 Silv...|Mountain Bikes|3399.9900|\n|      774|Mountain-100 Silv...|Mountain Bikes|3399.9900|\n|      775|Mountain-100 Blac...|Mountain Bikes|3374.9900|\n+---------+--------------------+--------------+---------+\nonly showing top 5 rows\n\n"
          ]
        }
      ],
      "execution_count": 28,
      "metadata": {
        "jupyter": {
          "source_hidden": false,
          "outputs_hidden": false
        },
        "nteract": {
          "transient": {
            "deleting": false
          }
        }
      }
    },
    {
      "cell_type": "code",
      "source": [
        "new_df = spark.read.format('delta').option('versionAsOf',3).load(delta_table_path)\r\n",
        "new_df.show(5)"
      ],
      "outputs": [
        {
          "output_type": "display_data",
          "data": {
            "application/vnd.livy.statement-meta+json": {
              "spark_pool": "sparka83eylv",
              "statement_id": 32,
              "statement_ids": [
                32
              ],
              "state": "finished",
              "livy_statement_state": "available",
              "spark_jobs": null,
              "session_id": "0",
              "normalized_state": "finished",
              "queued_time": "2025-01-05T12:06:21.9124192Z",
              "session_start_time": null,
              "execution_start_time": "2025-01-05T12:06:22.0606202Z",
              "execution_finish_time": "2025-01-05T12:06:22.6238018Z",
              "parent_msg_id": "a785c578-7488-4b10-8cdc-b944227a033d"
            },
            "text/plain": "StatementMeta(sparka83eylv, 0, 32, Finished, Available, Finished)"
          },
          "metadata": {}
        },
        {
          "output_type": "stream",
          "name": "stdout",
          "text": [
            "+---------+--------------------+--------------+---------+\n|ProductID|         ProductName|      Category|ListPrice|\n+---------+--------------------+--------------+---------+\n|      771|Mountain-100 Silv...|Mountain Bikes| 3059.991|\n|      772|Mountain-100 Silv...|Mountain Bikes| 815.9976|\n|      773|Mountain-100 Silv...|Mountain Bikes|3399.9900|\n|      774|Mountain-100 Silv...|Mountain Bikes|3399.9900|\n|      775|Mountain-100 Blac...|Mountain Bikes|3374.9900|\n+---------+--------------------+--------------+---------+\nonly showing top 5 rows\n\n"
          ]
        }
      ],
      "execution_count": 31,
      "metadata": {
        "jupyter": {
          "source_hidden": false,
          "outputs_hidden": false
        },
        "nteract": {
          "transient": {
            "deleting": false
          }
        }
      }
    },
    {
      "cell_type": "code",
      "source": [
        " deltaTable.history(10).show(20, False, True)"
      ],
      "outputs": [
        {
          "output_type": "display_data",
          "data": {
            "application/vnd.livy.statement-meta+json": {
              "spark_pool": "sparka83eylv",
              "statement_id": 33,
              "statement_ids": [
                33
              ],
              "state": "finished",
              "livy_statement_state": "available",
              "spark_jobs": null,
              "session_id": "0",
              "normalized_state": "finished",
              "queued_time": "2025-01-05T12:09:39.0606734Z",
              "session_start_time": null,
              "execution_start_time": "2025-01-05T12:09:39.2581162Z",
              "execution_finish_time": "2025-01-05T12:09:41.2005489Z",
              "parent_msg_id": "49f2f608-5a0e-4e8d-be25-cf975b9b47f0"
            },
            "text/plain": "StatementMeta(sparka83eylv, 0, 33, Finished, Available, Finished)"
          },
          "metadata": {}
        },
        {
          "output_type": "stream",
          "name": "stdout",
          "text": [
            "-RECORD 0---------------------------------------------------------------------------------------------------------------------------------------------------------------------------------------------------------------------------------------------------\n version             | 3                                                                                                                                                                                                                                    \n timestamp           | 2025-01-05 12:05:42.513                                                                                                                                                                                                              \n userId              | null                                                                                                                                                                                                                                 \n userName            | null                                                                                                                                                                                                                                 \n operation           | UPDATE                                                                                                                                                                                                                               \n operationParameters | {predicate -> [\"(cast(ProductID#3436 as int) = 772)\"]}                                                                                                                                                                               \n job                 | null                                                                                                                                                                                                                                 \n notebook            | null                                                                                                                                                                                                                                 \n clusterId           | null                                                                                                                                                                                                                                 \n readVersion         | 2                                                                                                                                                                                                                                    \n isolationLevel      | Serializable                                                                                                                                                                                                                         \n isBlindAppend       | false                                                                                                                                                                                                                                \n operationMetrics    | {numRemovedFiles -> 1, numRemovedBytes -> 6256, numCopiedRows -> 294, numAddedChangeFiles -> 0, executionTimeMs -> 974, scanTimeMs -> 536, numAddedFiles -> 1, numUpdatedRows -> 1, numAddedBytes -> 6256, rewriteTimeMs -> 438}     \n userMetadata        | null                                                                                                                                                                                                                                 \n engineInfo          | Apache-Spark/3.4.3.5.3.20241016.1 Delta-Lake/2.4.0.19                                                                                                                                                                                \n-RECORD 1---------------------------------------------------------------------------------------------------------------------------------------------------------------------------------------------------------------------------------------------------\n version             | 2                                                                                                                                                                                                                                    \n timestamp           | 2025-01-05 12:05:02.345                                                                                                                                                                                                              \n userId              | null                                                                                                                                                                                                                                 \n userName            | null                                                                                                                                                                                                                                 \n operation           | UPDATE                                                                                                                                                                                                                               \n operationParameters | {predicate -> [\"(cast(ProductID#2179 as int) = 772)\"]}                                                                                                                                                                               \n job                 | null                                                                                                                                                                                                                                 \n notebook            | null                                                                                                                                                                                                                                 \n clusterId           | null                                                                                                                                                                                                                                 \n readVersion         | 1                                                                                                                                                                                                                                    \n isolationLevel      | Serializable                                                                                                                                                                                                                         \n isBlindAppend       | false                                                                                                                                                                                                                                \n operationMetrics    | {numRemovedFiles -> 1, numRemovedBytes -> 6245, numCopiedRows -> 294, numAddedChangeFiles -> 0, executionTimeMs -> 1186, scanTimeMs -> 669, numAddedFiles -> 1, numUpdatedRows -> 1, numAddedBytes -> 6256, rewriteTimeMs -> 517}    \n userMetadata        | null                                                                                                                                                                                                                                 \n engineInfo          | Apache-Spark/3.4.3.5.3.20241016.1 Delta-Lake/2.4.0.19                                                                                                                                                                                \n-RECORD 2---------------------------------------------------------------------------------------------------------------------------------------------------------------------------------------------------------------------------------------------------\n version             | 1                                                                                                                                                                                                                                    \n timestamp           | 2025-01-05 11:58:21.713                                                                                                                                                                                                              \n userId              | null                                                                                                                                                                                                                                 \n userName            | null                                                                                                                                                                                                                                 \n operation           | UPDATE                                                                                                                                                                                                                               \n operationParameters | {predicate -> [\"(cast(ProductID#478 as int) = 771)\"]}                                                                                                                                                                                \n job                 | null                                                                                                                                                                                                                                 \n notebook            | null                                                                                                                                                                                                                                 \n clusterId           | null                                                                                                                                                                                                                                 \n readVersion         | 0                                                                                                                                                                                                                                    \n isolationLevel      | Serializable                                                                                                                                                                                                                         \n isBlindAppend       | false                                                                                                                                                                                                                                \n operationMetrics    | {numRemovedFiles -> 1, numRemovedBytes -> 6233, numCopiedRows -> 294, numAddedChangeFiles -> 0, executionTimeMs -> 11634, scanTimeMs -> 10729, numAddedFiles -> 1, numUpdatedRows -> 1, numAddedBytes -> 6245, rewriteTimeMs -> 902} \n userMetadata        | null                                                                                                                                                                                                                                 \n engineInfo          | Apache-Spark/3.4.3.5.3.20241016.1 Delta-Lake/2.4.0.19                                                                                                                                                                                \n-RECORD 3---------------------------------------------------------------------------------------------------------------------------------------------------------------------------------------------------------------------------------------------------\n version             | 0                                                                                                                                                                                                                                    \n timestamp           | 2025-01-05 11:56:36.698                                                                                                                                                                                                              \n userId              | null                                                                                                                                                                                                                                 \n userName            | null                                                                                                                                                                                                                                 \n operation           | WRITE                                                                                                                                                                                                                                \n operationParameters | {mode -> ErrorIfExists, partitionBy -> []}                                                                                                                                                                                           \n job                 | null                                                                                                                                                                                                                                 \n notebook            | null                                                                                                                                                                                                                                 \n clusterId           | null                                                                                                                                                                                                                                 \n readVersion         | null                                                                                                                                                                                                                                 \n isolationLevel      | Serializable                                                                                                                                                                                                                         \n isBlindAppend       | true                                                                                                                                                                                                                                 \n operationMetrics    | {numFiles -> 1, numOutputRows -> 295, numOutputBytes -> 6233}                                                                                                                                                                        \n userMetadata        | null                                                                                                                                                                                                                                 \n engineInfo          | Apache-Spark/3.4.3.5.3.20241016.1 Delta-Lake/2.4.0.19                                                                                                                                                                                \n\n"
          ]
        }
      ],
      "execution_count": 32,
      "metadata": {
        "jupyter": {
          "source_hidden": false,
          "outputs_hidden": false
        },
        "nteract": {
          "transient": {
            "deleting": false
          }
        }
      }
    },
    {
      "cell_type": "code",
      "source": [
        "spark.sql('CREATE DATABASE AdventureWorks')\r\n",
        "spark.sql(\"CREATE TABLE AdventureWorks.ProductExternal USING DELTA LOCATION '{0}'\".format(delta_table_path))\r\n",
        "spark.sql(\"DESCRIBE EXTENDED AdventureWorks.ProductExternal\").show()"
      ],
      "outputs": [
        {
          "output_type": "display_data",
          "data": {
            "application/vnd.livy.statement-meta+json": {
              "spark_pool": "sparka83eylv",
              "statement_id": 38,
              "statement_ids": [
                38
              ],
              "state": "finished",
              "livy_statement_state": "available",
              "spark_jobs": null,
              "session_id": "0",
              "normalized_state": "finished",
              "queued_time": "2025-01-05T12:28:04.7280589Z",
              "session_start_time": null,
              "execution_start_time": "2025-01-05T12:28:05.030284Z",
              "execution_finish_time": "2025-01-05T12:28:05.6060167Z",
              "parent_msg_id": "a06b0d78-21ae-4376-a849-3b7c2547f56d"
            },
            "text/plain": "StatementMeta(sparka83eylv, 0, 38, Finished, Available, Finished)"
          },
          "metadata": {}
        },
        {
          "output_type": "stream",
          "name": "stdout",
          "text": [
            "+--------------------+--------------------+-------+\n|            col_name|           data_type|comment|\n+--------------------+--------------------+-------+\n|           ProductID|              string|   null|\n|         ProductName|              string|   null|\n|            Category|              string|   null|\n|           ListPrice|              string|   null|\n|                    |                    |       |\n|# Detailed Table ...|                    |       |\n|                Name|spark_catalog.adv...|       |\n|                Type|            EXTERNAL|       |\n|            Location|abfss://files@dat...|       |\n|            Provider|               delta|       |\n|               Owner|trusted-service-user|       |\n|    Table Properties|[delta.minReaderV...|       |\n+--------------------+--------------------+-------+\n\n"
          ]
        }
      ],
      "execution_count": 37,
      "metadata": {
        "jupyter": {
          "source_hidden": false,
          "outputs_hidden": false
        },
        "nteract": {
          "transient": {
            "deleting": false
          }
        }
      }
    },
    {
      "cell_type": "code",
      "source": [
        "%%sql\r\n",
        "Use AdventureWorks;\r\n",
        "SELECT * FROM ProductExternal;"
      ],
      "outputs": [
        {
          "output_type": "display_data",
          "data": {
            "application/vnd.livy.statement-meta+json": {
              "spark_pool": "sparka83eylv",
              "statement_id": 40,
              "statement_ids": [
                39,
                40
              ],
              "state": "finished",
              "livy_statement_state": "available",
              "spark_jobs": null,
              "session_id": "0",
              "normalized_state": "finished",
              "queued_time": "2025-01-05T12:29:15.1724479Z",
              "session_start_time": null,
              "execution_start_time": "2025-01-05T12:29:15.2913684Z",
              "execution_finish_time": "2025-01-05T12:29:17.7481885Z",
              "parent_msg_id": "968da74d-df30-4178-a4b4-593b1505edd7"
            },
            "text/plain": "StatementMeta(sparka83eylv, 0, 40, Finished, Available, Finished)"
          },
          "metadata": {}
        },
        {
          "output_type": "execute_result",
          "execution_count": 38,
          "data": {
            "application/vnd.synapse.sparksql-result+json": {
              "schema": {
                "type": "struct",
                "fields": []
              },
              "data": []
            },
            "text/plain": "<Spark SQL result set with 0 rows and 0 fields>"
          },
          "metadata": {}
        },
        {
          "output_type": "execute_result",
          "execution_count": 38,
          "data": {
            "application/vnd.synapse.sparksql-result+json": {
              "schema": {
                "type": "struct",
                "fields": [
                  {
                    "name": "ProductID",
                    "type": "string",
                    "nullable": true,
                    "metadata": {}
                  },
                  {
                    "name": "ProductName",
                    "type": "string",
                    "nullable": true,
                    "metadata": {}
                  },
                  {
                    "name": "Category",
                    "type": "string",
                    "nullable": true,
                    "metadata": {}
                  },
                  {
                    "name": "ListPrice",
                    "type": "string",
                    "nullable": true,
                    "metadata": {}
                  }
                ]
              },
              "data": [
                [
                  "771",
                  "Mountain-100 Silver, 38",
                  "Mountain Bikes",
                  "3059.991"
                ],
                [
                  "772",
                  "Mountain-100 Silver, 42",
                  "Mountain Bikes",
                  "815.9976"
                ],
                [
                  "773",
                  "Mountain-100 Silver, 44",
                  "Mountain Bikes",
                  "3399.9900"
                ],
                [
                  "774",
                  "Mountain-100 Silver, 48",
                  "Mountain Bikes",
                  "3399.9900"
                ],
                [
                  "775",
                  "Mountain-100 Black, 38",
                  "Mountain Bikes",
                  "3374.9900"
                ],
                [
                  "776",
                  "Mountain-100 Black, 42",
                  "Mountain Bikes",
                  "3374.9900"
                ],
                [
                  "777",
                  "Mountain-100 Black, 44",
                  "Mountain Bikes",
                  "3374.9900"
                ],
                [
                  "778",
                  "Mountain-100 Black, 48",
                  "Mountain Bikes",
                  "3374.9900"
                ],
                [
                  "779",
                  "Mountain-200 Silver, 38",
                  "Mountain Bikes",
                  "2319.9900"
                ],
                [
                  "780",
                  "Mountain-200 Silver, 42",
                  "Mountain Bikes",
                  "2319.9900"
                ],
                [
                  "781",
                  "Mountain-200 Silver, 46",
                  "Mountain Bikes",
                  "2319.9900"
                ],
                [
                  "782",
                  "Mountain-200 Black, 38",
                  "Mountain Bikes",
                  "2294.9900"
                ],
                [
                  "783",
                  "Mountain-200 Black, 42",
                  "Mountain Bikes",
                  "2294.9900"
                ],
                [
                  "784",
                  "Mountain-200 Black, 46",
                  "Mountain Bikes",
                  "2294.9900"
                ],
                [
                  "785",
                  "Mountain-300 Black, 38",
                  "Mountain Bikes",
                  "1079.9900"
                ],
                [
                  "786",
                  "Mountain-300 Black, 40",
                  "Mountain Bikes",
                  "1079.9900"
                ],
                [
                  "787",
                  "Mountain-300 Black, 44",
                  "Mountain Bikes",
                  "1079.9900"
                ],
                [
                  "788",
                  "Mountain-300 Black, 48",
                  "Mountain Bikes",
                  "1079.9900"
                ],
                [
                  "980",
                  "Mountain-400-W Silver, 38",
                  "Mountain Bikes",
                  "769.4900"
                ],
                [
                  "981",
                  "Mountain-400-W Silver, 40",
                  "Mountain Bikes",
                  "769.4900"
                ],
                [
                  "982",
                  "Mountain-400-W Silver, 42",
                  "Mountain Bikes",
                  "769.4900"
                ],
                [
                  "983",
                  "Mountain-400-W Silver, 46",
                  "Mountain Bikes",
                  "769.4900"
                ],
                [
                  "984",
                  "Mountain-500 Silver, 40",
                  "Mountain Bikes",
                  "564.9900"
                ],
                [
                  "985",
                  "Mountain-500 Silver, 42",
                  "Mountain Bikes",
                  "564.9900"
                ],
                [
                  "986",
                  "Mountain-500 Silver, 44",
                  "Mountain Bikes",
                  "564.9900"
                ],
                [
                  "987",
                  "Mountain-500 Silver, 48",
                  "Mountain Bikes",
                  "564.9900"
                ],
                [
                  "988",
                  "Mountain-500 Silver, 52",
                  "Mountain Bikes",
                  "564.9900"
                ],
                [
                  "989",
                  "Mountain-500 Black, 40",
                  "Mountain Bikes",
                  "539.9900"
                ],
                [
                  "990",
                  "Mountain-500 Black, 42",
                  "Mountain Bikes",
                  "539.9900"
                ],
                [
                  "991",
                  "Mountain-500 Black, 44",
                  "Mountain Bikes",
                  "539.9900"
                ],
                [
                  "992",
                  "Mountain-500 Black, 48",
                  "Mountain Bikes",
                  "539.9900"
                ],
                [
                  "993",
                  "Mountain-500 Black, 52",
                  "Mountain Bikes",
                  "539.9900"
                ],
                [
                  "973",
                  "Road-350-W Yellow, 40",
                  "Road Bikes",
                  "1700.9900"
                ],
                [
                  "974",
                  "Road-350-W Yellow, 42",
                  "Road Bikes",
                  "1700.9900"
                ],
                [
                  "975",
                  "Road-350-W Yellow, 44",
                  "Road Bikes",
                  "1700.9900"
                ],
                [
                  "976",
                  "Road-350-W Yellow, 48",
                  "Road Bikes",
                  "1700.9900"
                ],
                [
                  "977",
                  "Road-750 Black, 58",
                  "Road Bikes",
                  "539.9900"
                ],
                [
                  "997",
                  "Road-750 Black, 44",
                  "Road Bikes",
                  "539.9900"
                ],
                [
                  "998",
                  "Road-750 Black, 48",
                  "Road Bikes",
                  "539.9900"
                ],
                [
                  "999",
                  "Road-750 Black, 52",
                  "Road Bikes",
                  "539.9900"
                ],
                [
                  "789",
                  "Road-250 Red, 44",
                  "Road Bikes",
                  "2443.3500"
                ],
                [
                  "790",
                  "Road-250 Red, 48",
                  "Road Bikes",
                  "2443.3500"
                ],
                [
                  "791",
                  "Road-250 Red, 52",
                  "Road Bikes",
                  "2443.3500"
                ],
                [
                  "792",
                  "Road-250 Red, 58",
                  "Road Bikes",
                  "2443.3500"
                ],
                [
                  "793",
                  "Road-250 Black, 44",
                  "Road Bikes",
                  "2443.3500"
                ],
                [
                  "794",
                  "Road-250 Black, 48",
                  "Road Bikes",
                  "2443.3500"
                ],
                [
                  "795",
                  "Road-250 Black, 52",
                  "Road Bikes",
                  "2443.3500"
                ],
                [
                  "796",
                  "Road-250 Black, 58",
                  "Road Bikes",
                  "2443.3500"
                ],
                [
                  "797",
                  "Road-550-W Yellow, 38",
                  "Road Bikes",
                  "1120.4900"
                ],
                [
                  "798",
                  "Road-550-W Yellow, 40",
                  "Road Bikes",
                  "1120.4900"
                ],
                [
                  "799",
                  "Road-550-W Yellow, 42",
                  "Road Bikes",
                  "1120.4900"
                ],
                [
                  "800",
                  "Road-550-W Yellow, 44",
                  "Road Bikes",
                  "1120.4900"
                ],
                [
                  "801",
                  "Road-550-W Yellow, 48",
                  "Road Bikes",
                  "1120.4900"
                ],
                [
                  "749",
                  "Road-150 Red, 62",
                  "Road Bikes",
                  "3578.2700"
                ],
                [
                  "750",
                  "Road-150 Red, 44",
                  "Road Bikes",
                  "3578.2700"
                ],
                [
                  "751",
                  "Road-150 Red, 48",
                  "Road Bikes",
                  "3578.2700"
                ],
                [
                  "752",
                  "Road-150 Red, 52",
                  "Road Bikes",
                  "3578.2700"
                ],
                [
                  "753",
                  "Road-150 Red, 56",
                  "Road Bikes",
                  "3578.2700"
                ],
                [
                  "754",
                  "Road-450 Red, 58",
                  "Road Bikes",
                  "1457.9900"
                ],
                [
                  "755",
                  "Road-450 Red, 60",
                  "Road Bikes",
                  "1457.9900"
                ],
                [
                  "756",
                  "Road-450 Red, 44",
                  "Road Bikes",
                  "1457.9900"
                ],
                [
                  "757",
                  "Road-450 Red, 48",
                  "Road Bikes",
                  "1457.9900"
                ],
                [
                  "758",
                  "Road-450 Red, 52",
                  "Road Bikes",
                  "1457.9900"
                ],
                [
                  "759",
                  "Road-650 Red, 58",
                  "Road Bikes",
                  "782.9900"
                ],
                [
                  "760",
                  "Road-650 Red, 60",
                  "Road Bikes",
                  "782.9900"
                ],
                [
                  "761",
                  "Road-650 Red, 62",
                  "Road Bikes",
                  "782.9900"
                ],
                [
                  "762",
                  "Road-650 Red, 44",
                  "Road Bikes",
                  "782.9900"
                ],
                [
                  "763",
                  "Road-650 Red, 48",
                  "Road Bikes",
                  "782.9900"
                ],
                [
                  "764",
                  "Road-650 Red, 52",
                  "Road Bikes",
                  "782.9900"
                ],
                [
                  "765",
                  "Road-650 Black, 58",
                  "Road Bikes",
                  "782.9900"
                ],
                [
                  "766",
                  "Road-650 Black, 60",
                  "Road Bikes",
                  "782.9900"
                ],
                [
                  "767",
                  "Road-650 Black, 62",
                  "Road Bikes",
                  "782.9900"
                ],
                [
                  "768",
                  "Road-650 Black, 44",
                  "Road Bikes",
                  "782.9900"
                ],
                [
                  "769",
                  "Road-650 Black, 48",
                  "Road Bikes",
                  "782.9900"
                ],
                [
                  "770",
                  "Road-650 Black, 52",
                  "Road Bikes",
                  "782.9900"
                ],
                [
                  "978",
                  "Touring-3000 Blue, 44",
                  "Touring Bikes",
                  "742.3500"
                ],
                [
                  "979",
                  "Touring-3000 Blue, 50",
                  "Touring Bikes",
                  "742.3500"
                ],
                [
                  "953",
                  "Touring-2000 Blue, 60",
                  "Touring Bikes",
                  "1214.8500"
                ],
                [
                  "954",
                  "Touring-1000 Yellow, 46",
                  "Touring Bikes",
                  "2384.0700"
                ],
                [
                  "955",
                  "Touring-1000 Yellow, 50",
                  "Touring Bikes",
                  "2384.0700"
                ],
                [
                  "956",
                  "Touring-1000 Yellow, 54",
                  "Touring Bikes",
                  "2384.0700"
                ],
                [
                  "957",
                  "Touring-1000 Yellow, 60",
                  "Touring Bikes",
                  "2384.0700"
                ],
                [
                  "958",
                  "Touring-3000 Blue, 54",
                  "Touring Bikes",
                  "742.3500"
                ],
                [
                  "959",
                  "Touring-3000 Blue, 58",
                  "Touring Bikes",
                  "742.3500"
                ],
                [
                  "960",
                  "Touring-3000 Blue, 62",
                  "Touring Bikes",
                  "742.3500"
                ],
                [
                  "961",
                  "Touring-3000 Yellow, 44",
                  "Touring Bikes",
                  "742.3500"
                ],
                [
                  "962",
                  "Touring-3000 Yellow, 50",
                  "Touring Bikes",
                  "742.3500"
                ],
                [
                  "963",
                  "Touring-3000 Yellow, 54",
                  "Touring Bikes",
                  "742.3500"
                ],
                [
                  "964",
                  "Touring-3000 Yellow, 58",
                  "Touring Bikes",
                  "742.3500"
                ],
                [
                  "965",
                  "Touring-3000 Yellow, 62",
                  "Touring Bikes",
                  "742.3500"
                ],
                [
                  "966",
                  "Touring-1000 Blue, 46",
                  "Touring Bikes",
                  "2384.0700"
                ],
                [
                  "967",
                  "Touring-1000 Blue, 50",
                  "Touring Bikes",
                  "2384.0700"
                ],
                [
                  "968",
                  "Touring-1000 Blue, 54",
                  "Touring Bikes",
                  "2384.0700"
                ],
                [
                  "969",
                  "Touring-1000 Blue, 60",
                  "Touring Bikes",
                  "2384.0700"
                ],
                [
                  "970",
                  "Touring-2000 Blue, 46",
                  "Touring Bikes",
                  "1214.8500"
                ],
                [
                  "971",
                  "Touring-2000 Blue, 50",
                  "Touring Bikes",
                  "1214.8500"
                ],
                [
                  "972",
                  "Touring-2000 Blue, 54",
                  "Touring Bikes",
                  "1214.8500"
                ],
                [
                  "946",
                  "LL Touring Handlebars",
                  "Handlebars",
                  "46.0900"
                ],
                [
                  "947",
                  "HL Touring Handlebars",
                  "Handlebars",
                  "91.5700"
                ],
                [
                  "808",
                  "LL Mountain Handlebars",
                  "Handlebars",
                  "44.5400"
                ],
                [
                  "809",
                  "ML Mountain Handlebars",
                  "Handlebars",
                  "61.9200"
                ],
                [
                  "810",
                  "HL Mountain Handlebars",
                  "Handlebars",
                  "120.2700"
                ],
                [
                  "811",
                  "LL Road Handlebars",
                  "Handlebars",
                  "44.5400"
                ],
                [
                  "812",
                  "ML Road Handlebars",
                  "Handlebars",
                  "61.9200"
                ],
                [
                  "813",
                  "HL Road Handlebars",
                  "Handlebars",
                  "120.2700"
                ],
                [
                  "994",
                  "LL Bottom Bracket",
                  "Bottom Brackets",
                  "53.9900"
                ],
                [
                  "995",
                  "ML Bottom Bracket",
                  "Bottom Brackets",
                  "101.2400"
                ],
                [
                  "996",
                  "HL Bottom Bracket",
                  "Bottom Brackets",
                  "121.4900"
                ],
                [
                  "948",
                  "Front Brakes",
                  "Brakes",
                  "106.5000"
                ],
                [
                  "907",
                  "Rear Brakes",
                  "Brakes",
                  "106.5000"
                ],
                [
                  "952",
                  "Chain",
                  "Chains",
                  "20.2400"
                ],
                [
                  "949",
                  "LL Crankset",
                  "Cranksets",
                  "175.4900"
                ],
                [
                  "950",
                  "ML Crankset",
                  "Cranksets",
                  "256.4900"
                ],
                [
                  "951",
                  "HL Crankset",
                  "Cranksets",
                  "404.9900"
                ],
                [
                  "945",
                  "Front Derailleur",
                  "Derailleurs",
                  "91.4900"
                ],
                [
                  "894",
                  "Rear Derailleur",
                  "Derailleurs",
                  "121.4600"
                ],
                [
                  "802",
                  "LL Fork",
                  "Forks",
                  "148.2200"
                ],
                [
                  "803",
                  "ML Fork",
                  "Forks",
                  "175.4900"
                ],
                [
                  "804",
                  "HL Fork",
                  "Forks",
                  "229.4900"
                ],
                [
                  "805",
                  "LL Headset",
                  "Headsets",
                  "34.2000"
                ],
                [
                  "806",
                  "ML Headset",
                  "Headsets",
                  "102.2900"
                ],
                [
                  "807",
                  "HL Headset",
                  "Headsets",
                  "124.7300"
                ],
                [
                  "739",
                  "HL Mountain Frame - Silver, 42",
                  "Mountain Frames",
                  "1364.5000"
                ],
                [
                  "740",
                  "HL Mountain Frame - Silver, 44",
                  "Mountain Frames",
                  "1364.5000"
                ],
                [
                  "741",
                  "HL Mountain Frame - Silver, 48",
                  "Mountain Frames",
                  "1364.5000"
                ],
                [
                  "742",
                  "HL Mountain Frame - Silver, 46",
                  "Mountain Frames",
                  "1364.5000"
                ],
                [
                  "743",
                  "HL Mountain Frame - Black, 42",
                  "Mountain Frames",
                  "1349.6000"
                ],
                [
                  "744",
                  "HL Mountain Frame - Black, 44",
                  "Mountain Frames",
                  "1349.6000"
                ],
                [
                  "745",
                  "HL Mountain Frame - Black, 48",
                  "Mountain Frames",
                  "1349.6000"
                ],
                [
                  "746",
                  "HL Mountain Frame - Black, 46",
                  "Mountain Frames",
                  "1349.6000"
                ],
                [
                  "747",
                  "HL Mountain Frame - Black, 38",
                  "Mountain Frames",
                  "1349.6000"
                ],
                [
                  "748",
                  "HL Mountain Frame - Silver, 38",
                  "Mountain Frames",
                  "1364.5000"
                ],
                [
                  "814",
                  "ML Mountain Frame - Black, 38",
                  "Mountain Frames",
                  "348.7600"
                ],
                [
                  "830",
                  "ML Mountain Frame - Black, 40",
                  "Mountain Frames",
                  "348.7600"
                ],
                [
                  "831",
                  "ML Mountain Frame - Black, 44",
                  "Mountain Frames",
                  "348.7600"
                ],
                [
                  "832",
                  "ML Mountain Frame - Black, 48",
                  "Mountain Frames",
                  "348.7600"
                ],
                [
                  "924",
                  "LL Mountain Frame - Black, 42",
                  "Mountain Frames",
                  "249.7900"
                ],
                [
                  "925",
                  "LL Mountain Frame - Black, 44",
                  "Mountain Frames",
                  "249.7900"
                ],
                [
                  "926",
                  "LL Mountain Frame - Black, 48",
                  "Mountain Frames",
                  "249.7900"
                ],
                [
                  "927",
                  "LL Mountain Frame - Black, 52",
                  "Mountain Frames",
                  "249.7900"
                ],
                [
                  "917",
                  "LL Mountain Frame - Silver, 42",
                  "Mountain Frames",
                  "264.0500"
                ],
                [
                  "918",
                  "LL Mountain Frame - Silver, 44",
                  "Mountain Frames",
                  "264.0500"
                ],
                [
                  "919",
                  "LL Mountain Frame - Silver, 48",
                  "Mountain Frames",
                  "264.0500"
                ],
                [
                  "920",
                  "LL Mountain Frame - Silver, 52",
                  "Mountain Frames",
                  "264.0500"
                ],
                [
                  "904",
                  "ML Mountain Frame-W - Silver, 40",
                  "Mountain Frames",
                  "364.0900"
                ],
                [
                  "905",
                  "ML Mountain Frame-W - Silver, 42",
                  "Mountain Frames",
                  "364.0900"
                ],
                [
                  "906",
                  "ML Mountain Frame-W - Silver, 46",
                  "Mountain Frames",
                  "364.0900"
                ],
                [
                  "942",
                  "ML Mountain Frame-W - Silver, 38",
                  "Mountain Frames",
                  "364.0900"
                ],
                [
                  "943",
                  "LL Mountain Frame - Black, 40",
                  "Mountain Frames",
                  "249.7900"
                ],
                [
                  "944",
                  "LL Mountain Frame - Silver, 40",
                  "Mountain Frames",
                  "264.0500"
                ],
                [
                  "935",
                  "LL Mountain Pedal",
                  "Pedals",
                  "40.4900"
                ],
                [
                  "936",
                  "ML Mountain Pedal",
                  "Pedals",
                  "62.0900"
                ],
                [
                  "937",
                  "HL Mountain Pedal",
                  "Pedals",
                  "80.9900"
                ],
                [
                  "938",
                  "LL Road Pedal",
                  "Pedals",
                  "40.4900"
                ],
                [
                  "939",
                  "ML Road Pedal",
                  "Pedals",
                  "62.0900"
                ],
                [
                  "940",
                  "HL Road Pedal",
                  "Pedals",
                  "80.9900"
                ],
                [
                  "941",
                  "Touring Pedal",
                  "Pedals",
                  "80.9900"
                ],
                [
                  "833",
                  "ML Road Frame-W - Yellow, 40",
                  "Road Frames",
                  "594.8300"
                ],
                [
                  "834",
                  "ML Road Frame-W - Yellow, 42",
                  "Road Frames",
                  "594.8300"
                ],
                [
                  "835",
                  "ML Road Frame-W - Yellow, 44",
                  "Road Frames",
                  "594.8300"
                ],
                [
                  "836",
                  "ML Road Frame-W - Yellow, 48",
                  "Road Frames",
                  "594.8300"
                ],
                [
                  "837",
                  "HL Road Frame - Black, 62",
                  "Road Frames",
                  "1431.5000"
                ],
                [
                  "838",
                  "HL Road Frame - Black, 44",
                  "Road Frames",
                  "1431.5000"
                ],
                [
                  "839",
                  "HL Road Frame - Black, 48",
                  "Road Frames",
                  "1431.5000"
                ],
                [
                  "840",
                  "HL Road Frame - Black, 52",
                  "Road Frames",
                  "1431.5000"
                ],
                [
                  "822",
                  "ML Road Frame-W - Yellow, 38",
                  "Road Frames",
                  "594.8300"
                ],
                [
                  "680",
                  "HL Road Frame - Black, 58",
                  "Road Frames",
                  "1431.5000"
                ],
                [
                  "706",
                  "HL Road Frame - Red, 58",
                  "Road Frames",
                  "1431.5000"
                ],
                [
                  "717",
                  "HL Road Frame - Red, 62",
                  "Road Frames",
                  "1431.5000"
                ],
                [
                  "718",
                  "HL Road Frame - Red, 44",
                  "Road Frames",
                  "1431.5000"
                ],
                [
                  "719",
                  "HL Road Frame - Red, 48",
                  "Road Frames",
                  "1431.5000"
                ],
                [
                  "720",
                  "HL Road Frame - Red, 52",
                  "Road Frames",
                  "1431.5000"
                ],
                [
                  "721",
                  "HL Road Frame - Red, 56",
                  "Road Frames",
                  "1431.5000"
                ],
                [
                  "722",
                  "LL Road Frame - Black, 58",
                  "Road Frames",
                  "337.2200"
                ],
                [
                  "723",
                  "LL Road Frame - Black, 60",
                  "Road Frames",
                  "337.2200"
                ],
                [
                  "724",
                  "LL Road Frame - Black, 62",
                  "Road Frames",
                  "337.2200"
                ],
                [
                  "725",
                  "LL Road Frame - Red, 44",
                  "Road Frames",
                  "337.2200"
                ],
                [
                  "726",
                  "LL Road Frame - Red, 48",
                  "Road Frames",
                  "337.2200"
                ],
                [
                  "727",
                  "LL Road Frame - Red, 52",
                  "Road Frames",
                  "337.2200"
                ],
                [
                  "728",
                  "LL Road Frame - Red, 58",
                  "Road Frames",
                  "337.2200"
                ],
                [
                  "729",
                  "LL Road Frame - Red, 60",
                  "Road Frames",
                  "337.2200"
                ],
                [
                  "730",
                  "LL Road Frame - Red, 62",
                  "Road Frames",
                  "337.2200"
                ],
                [
                  "731",
                  "ML Road Frame - Red, 44",
                  "Road Frames",
                  "594.8300"
                ],
                [
                  "732",
                  "ML Road Frame - Red, 48",
                  "Road Frames",
                  "594.8300"
                ],
                [
                  "733",
                  "ML Road Frame - Red, 52",
                  "Road Frames",
                  "594.8300"
                ],
                [
                  "734",
                  "ML Road Frame - Red, 58",
                  "Road Frames",
                  "594.8300"
                ],
                [
                  "735",
                  "ML Road Frame - Red, 60",
                  "Road Frames",
                  "594.8300"
                ],
                [
                  "736",
                  "LL Road Frame - Black, 44",
                  "Road Frames",
                  "337.2200"
                ],
                [
                  "737",
                  "LL Road Frame - Black, 48",
                  "Road Frames",
                  "337.2200"
                ],
                [
                  "738",
                  "LL Road Frame - Black, 52",
                  "Road Frames",
                  "337.2200"
                ],
                [
                  "908",
                  "LL Mountain Seat/Saddle",
                  "Saddles",
                  "27.1200"
                ],
                [
                  "909",
                  "ML Mountain Seat/Saddle",
                  "Saddles",
                  "39.1400"
                ],
                [
                  "910",
                  "HL Mountain Seat/Saddle",
                  "Saddles",
                  "52.6400"
                ],
                [
                  "911",
                  "LL Road Seat/Saddle",
                  "Saddles",
                  "27.1200"
                ],
                [
                  "912",
                  "ML Road Seat/Saddle",
                  "Saddles",
                  "39.1400"
                ],
                [
                  "913",
                  "HL Road Seat/Saddle",
                  "Saddles",
                  "52.6400"
                ],
                [
                  "914",
                  "LL Touring Seat/Saddle",
                  "Saddles",
                  "27.1200"
                ],
                [
                  "915",
                  "ML Touring Seat/Saddle",
                  "Saddles",
                  "39.1400"
                ],
                [
                  "916",
                  "HL Touring Seat/Saddle",
                  "Saddles",
                  "52.6400"
                ],
                [
                  "895",
                  "LL Touring Frame - Blue, 50",
                  "Touring Frames",
                  "333.4200"
                ],
                [
                  "896",
                  "LL Touring Frame - Blue, 54",
                  "Touring Frames",
                  "333.4200"
                ],
                [
                  "897",
                  "LL Touring Frame - Blue, 58",
                  "Touring Frames",
                  "333.4200"
                ],
                [
                  "898",
                  "LL Touring Frame - Blue, 62",
                  "Touring Frames",
                  "333.4200"
                ],
                [
                  "899",
                  "LL Touring Frame - Yellow, 44",
                  "Touring Frames",
                  "333.4200"
                ],
                [
                  "900",
                  "LL Touring Frame - Yellow, 50",
                  "Touring Frames",
                  "333.4200"
                ],
                [
                  "901",
                  "LL Touring Frame - Yellow, 54",
                  "Touring Frames",
                  "333.4200"
                ],
                [
                  "902",
                  "LL Touring Frame - Yellow, 58",
                  "Touring Frames",
                  "333.4200"
                ],
                [
                  "903",
                  "LL Touring Frame - Blue, 44",
                  "Touring Frames",
                  "333.4200"
                ],
                [
                  "885",
                  "HL Touring Frame - Yellow, 60",
                  "Touring Frames",
                  "1003.9100"
                ],
                [
                  "886",
                  "LL Touring Frame - Yellow, 62",
                  "Touring Frames",
                  "333.4200"
                ],
                [
                  "887",
                  "HL Touring Frame - Yellow, 46",
                  "Touring Frames",
                  "1003.9100"
                ],
                [
                  "888",
                  "HL Touring Frame - Yellow, 50",
                  "Touring Frames",
                  "1003.9100"
                ],
                [
                  "889",
                  "HL Touring Frame - Yellow, 54",
                  "Touring Frames",
                  "1003.9100"
                ],
                [
                  "890",
                  "HL Touring Frame - Blue, 46",
                  "Touring Frames",
                  "1003.9100"
                ],
                [
                  "891",
                  "HL Touring Frame - Blue, 50",
                  "Touring Frames",
                  "1003.9100"
                ],
                [
                  "892",
                  "HL Touring Frame - Blue, 54",
                  "Touring Frames",
                  "1003.9100"
                ],
                [
                  "893",
                  "HL Touring Frame - Blue, 60",
                  "Touring Frames",
                  "1003.9100"
                ],
                [
                  "823",
                  "LL Mountain Rear Wheel",
                  "Wheels",
                  "87.7450"
                ],
                [
                  "824",
                  "ML Mountain Rear Wheel",
                  "Wheels",
                  "236.0250"
                ],
                [
                  "825",
                  "HL Mountain Rear Wheel",
                  "Wheels",
                  "327.2150"
                ],
                [
                  "826",
                  "LL Road Rear Wheel",
                  "Wheels",
                  "112.5650"
                ],
                [
                  "827",
                  "ML Road Rear Wheel",
                  "Wheels",
                  "275.3850"
                ],
                [
                  "828",
                  "HL Road Rear Wheel",
                  "Wheels",
                  "357.0600"
                ],
                [
                  "829",
                  "Touring Rear Wheel",
                  "Wheels",
                  "245.0100"
                ],
                [
                  "815",
                  "LL Mountain Front Wheel",
                  "Wheels",
                  "60.7450"
                ],
                [
                  "816",
                  "ML Mountain Front Wheel",
                  "Wheels",
                  "209.0250"
                ],
                [
                  "817",
                  "HL Mountain Front Wheel",
                  "Wheels",
                  "300.2150"
                ],
                [
                  "818",
                  "LL Road Front Wheel",
                  "Wheels",
                  "85.5650"
                ],
                [
                  "819",
                  "ML Road Front Wheel",
                  "Wheels",
                  "248.3850"
                ],
                [
                  "820",
                  "HL Road Front Wheel",
                  "Wheels",
                  "330.0600"
                ],
                [
                  "821",
                  "Touring Front Wheel",
                  "Wheels",
                  "218.0100"
                ],
                [
                  "855",
                  "Men's Bib-Shorts, S",
                  "Bib-Shorts",
                  "89.9900"
                ],
                [
                  "856",
                  "Men's Bib-Shorts, M",
                  "Bib-Shorts",
                  "89.9900"
                ],
                [
                  "857",
                  "Men's Bib-Shorts, L",
                  "Bib-Shorts",
                  "89.9900"
                ],
                [
                  "712",
                  "AWC Logo Cap",
                  "Caps",
                  "8.9900"
                ],
                [
                  "858",
                  "Half-Finger Gloves, S",
                  "Gloves",
                  "24.4900"
                ],
                [
                  "859",
                  "Half-Finger Gloves, M",
                  "Gloves",
                  "24.4900"
                ],
                [
                  "860",
                  "Half-Finger Gloves, L",
                  "Gloves",
                  "24.4900"
                ],
                [
                  "861",
                  "Full-Finger Gloves, S",
                  "Gloves",
                  "37.9900"
                ],
                [
                  "862",
                  "Full-Finger Gloves, M",
                  "Gloves",
                  "37.9900"
                ],
                [
                  "863",
                  "Full-Finger Gloves, L",
                  "Gloves",
                  "37.9900"
                ],
                [
                  "713",
                  "Long-Sleeve Logo Jersey, S",
                  "Jerseys",
                  "49.9900"
                ],
                [
                  "714",
                  "Long-Sleeve Logo Jersey, M",
                  "Jerseys",
                  "49.9900"
                ],
                [
                  "715",
                  "Long-Sleeve Logo Jersey, L",
                  "Jerseys",
                  "49.9900"
                ],
                [
                  "716",
                  "Long-Sleeve Logo Jersey, XL",
                  "Jerseys",
                  "49.9900"
                ],
                [
                  "881",
                  "Short-Sleeve Classic Jersey, S",
                  "Jerseys",
                  "53.9900"
                ],
                [
                  "882",
                  "Short-Sleeve Classic Jersey, M",
                  "Jerseys",
                  "53.9900"
                ],
                [
                  "883",
                  "Short-Sleeve Classic Jersey, L",
                  "Jerseys",
                  "53.9900"
                ],
                [
                  "884",
                  "Short-Sleeve Classic Jersey, XL",
                  "Jerseys",
                  "53.9900"
                ],
                [
                  "867",
                  "Women's Mountain Shorts, S",
                  "Shorts",
                  "69.9900"
                ],
                [
                  "868",
                  "Women's Mountain Shorts, M",
                  "Shorts",
                  "69.9900"
                ],
                [
                  "869",
                  "Women's Mountain Shorts, L",
                  "Shorts",
                  "69.9900"
                ],
                [
                  "841",
                  "Men's Sports Shorts, S",
                  "Shorts",
                  "59.9900"
                ],
                [
                  "849",
                  "Men's Sports Shorts, M",
                  "Shorts",
                  "59.9900"
                ],
                [
                  "850",
                  "Men's Sports Shorts, L",
                  "Shorts",
                  "59.9900"
                ],
                [
                  "851",
                  "Men's Sports Shorts, XL",
                  "Shorts",
                  "59.9900"
                ],
                [
                  "709",
                  "Mountain Bike Socks, M",
                  "Socks",
                  "9.5000"
                ],
                [
                  "710",
                  "Mountain Bike Socks, L",
                  "Socks",
                  "9.5000"
                ],
                [
                  "874",
                  "Racing Socks, M",
                  "Socks",
                  "8.9900"
                ],
                [
                  "875",
                  "Racing Socks, L",
                  "Socks",
                  "8.9900"
                ],
                [
                  "852",
                  "Women's Tights, S",
                  "Tights",
                  "74.9900"
                ],
                [
                  "853",
                  "Women's Tights, M",
                  "Tights",
                  "74.9900"
                ],
                [
                  "854",
                  "Women's Tights, L",
                  "Tights",
                  "74.9900"
                ],
                [
                  "864",
                  "Classic Vest, S",
                  "Vests",
                  "63.5000"
                ],
                [
                  "865",
                  "Classic Vest, M",
                  "Vests",
                  "63.5000"
                ],
                [
                  "866",
                  "Classic Vest, L",
                  "Vests",
                  "63.5000"
                ],
                [
                  "876",
                  "Hitch Rack - 4-Bike",
                  "Bike Racks",
                  "120.0000"
                ],
                [
                  "879",
                  "All-Purpose Bike Stand",
                  "Bike Stands",
                  "159.0000"
                ],
                [
                  "870",
                  "Water Bottle - 30 oz.",
                  "Bottles and Cages",
                  "4.9900"
                ],
                [
                  "871",
                  "Mountain Bottle Cage",
                  "Bottles and Cages",
                  "9.9900"
                ],
                [
                  "872",
                  "Road Bottle Cage",
                  "Bottles and Cages",
                  "8.9900"
                ],
                [
                  "877",
                  "Bike Wash - Dissolver",
                  "Cleaners",
                  "7.9500"
                ],
                [
                  "878",
                  "Fender Set - Mountain",
                  "Fenders",
                  "21.9800"
                ],
                [
                  "711",
                  "Sport-100 Helmet, Blue",
                  "Helmets",
                  "34.9900"
                ],
                [
                  "707",
                  "Sport-100 Helmet, Red",
                  "Helmets",
                  "34.9900"
                ],
                [
                  "708",
                  "Sport-100 Helmet, Black",
                  "Helmets",
                  "34.9900"
                ],
                [
                  "880",
                  "Hydration Pack - 70 oz.",
                  "Hydration Packs",
                  "54.9900"
                ],
                [
                  "846",
                  "Taillights - Battery-Powered",
                  "Lights",
                  "13.9900"
                ],
                [
                  "847",
                  "Headlights - Dual-Beam",
                  "Lights",
                  "34.9900"
                ],
                [
                  "848",
                  "Headlights - Weatherproof",
                  "Lights",
                  "44.9900"
                ],
                [
                  "843",
                  "Cable Lock",
                  "Locks",
                  "25.0000"
                ],
                [
                  "842",
                  "Touring-Panniers, Large",
                  "Panniers",
                  "125.0000"
                ],
                [
                  "844",
                  "Minipump",
                  "Pumps",
                  "19.9900"
                ],
                [
                  "845",
                  "Mountain Pump",
                  "Pumps",
                  "24.9900"
                ],
                [
                  "873",
                  "Patch Kit/8 Patches",
                  "Tires and Tubes",
                  "2.2900"
                ],
                [
                  "921",
                  "Mountain Tire Tube",
                  "Tires and Tubes",
                  "4.9900"
                ],
                [
                  "922",
                  "Road Tire Tube",
                  "Tires and Tubes",
                  "3.9900"
                ],
                [
                  "923",
                  "Touring Tire Tube",
                  "Tires and Tubes",
                  "4.9900"
                ],
                [
                  "928",
                  "LL Mountain Tire",
                  "Tires and Tubes",
                  "24.9900"
                ],
                [
                  "929",
                  "ML Mountain Tire",
                  "Tires and Tubes",
                  "29.9900"
                ],
                [
                  "930",
                  "HL Mountain Tire",
                  "Tires and Tubes",
                  "35.0000"
                ],
                [
                  "931",
                  "LL Road Tire",
                  "Tires and Tubes",
                  "21.4900"
                ],
                [
                  "932",
                  "ML Road Tire",
                  "Tires and Tubes",
                  "24.9900"
                ],
                [
                  "933",
                  "HL Road Tire",
                  "Tires and Tubes",
                  "32.6000"
                ],
                [
                  "934",
                  "Touring Tire",
                  "Tires and Tubes",
                  "28.9900"
                ]
              ]
            },
            "text/plain": "<Spark SQL result set with 295 rows and 4 fields>"
          },
          "metadata": {}
        }
      ],
      "execution_count": 38,
      "metadata": {
        "jupyter": {
          "source_hidden": false,
          "outputs_hidden": false
        },
        "nteract": {
          "transient": {
            "deleting": false
          }
        },
        "microsoft": {
          "language": "sparksql"
        },
        "collapsed": false
      }
    },
    {
      "cell_type": "code",
      "source": [
        "df.write.format('delta').saveAsTable(\"AdventureWorks.ProductManaged\")\r\n",
        "spark.sql(\"DESCRIBE EXTENDED AdventureWorks.ProductManaged\").show()"
      ],
      "outputs": [
        {
          "output_type": "display_data",
          "data": {
            "application/vnd.livy.statement-meta+json": {
              "spark_pool": "sparka83eylv",
              "statement_id": 42,
              "statement_ids": [
                42
              ],
              "state": "finished",
              "livy_statement_state": "available",
              "spark_jobs": null,
              "session_id": "0",
              "normalized_state": "finished",
              "queued_time": "2025-01-05T12:33:06.2610543Z",
              "session_start_time": null,
              "execution_start_time": "2025-01-05T12:33:06.3967043Z",
              "execution_finish_time": "2025-01-05T12:33:09.3354979Z",
              "parent_msg_id": "193e2f78-34ba-49c5-bd3b-3cd651a0d7f7"
            },
            "text/plain": "StatementMeta(sparka83eylv, 0, 42, Finished, Available, Finished)"
          },
          "metadata": {}
        },
        {
          "output_type": "stream",
          "name": "stdout",
          "text": [
            "+--------------------+--------------------+-------+\n|            col_name|           data_type|comment|\n+--------------------+--------------------+-------+\n|           ProductID|              string|   null|\n|         ProductName|              string|   null|\n|            Category|              string|   null|\n|           ListPrice|              string|   null|\n|                    |                    |       |\n|# Detailed Table ...|                    |       |\n|                Name|spark_catalog.adv...|       |\n|                Type|             MANAGED|       |\n|            Location|abfss://files@dat...|       |\n|            Provider|               delta|       |\n|               Owner|trusted-service-user|       |\n|    Table Properties|[delta.minReaderV...|       |\n+--------------------+--------------------+-------+\n\n"
          ]
        }
      ],
      "execution_count": 40,
      "metadata": {
        "jupyter": {
          "source_hidden": false,
          "outputs_hidden": false
        },
        "nteract": {
          "transient": {
            "deleting": false
          }
        }
      }
    },
    {
      "cell_type": "code",
      "source": [
        " %%sql\r\n",
        "\r\n",
        " USE AdventureWorks;\r\n",
        "\r\n",
        " SELECT * FROM ProductManaged;"
      ],
      "outputs": [
        {
          "output_type": "display_data",
          "data": {
            "application/vnd.livy.statement-meta+json": {
              "spark_pool": "sparka83eylv",
              "statement_id": 46,
              "statement_ids": [
                45,
                46
              ],
              "state": "finished",
              "livy_statement_state": "available",
              "spark_jobs": null,
              "session_id": "0",
              "normalized_state": "finished",
              "queued_time": "2025-01-05T12:33:35.275317Z",
              "session_start_time": null,
              "execution_start_time": "2025-01-05T12:33:35.4039183Z",
              "execution_finish_time": "2025-01-05T12:33:38.3603556Z",
              "parent_msg_id": "f41a53e6-c099-4b4b-9628-65930b298cc6"
            },
            "text/plain": "StatementMeta(sparka83eylv, 0, 46, Finished, Available, Finished)"
          },
          "metadata": {}
        },
        {
          "output_type": "execute_result",
          "execution_count": 42,
          "data": {
            "application/vnd.synapse.sparksql-result+json": {
              "schema": {
                "type": "struct",
                "fields": []
              },
              "data": []
            },
            "text/plain": "<Spark SQL result set with 0 rows and 0 fields>"
          },
          "metadata": {}
        },
        {
          "output_type": "execute_result",
          "execution_count": 42,
          "data": {
            "application/vnd.synapse.sparksql-result+json": {
              "schema": {
                "type": "struct",
                "fields": [
                  {
                    "name": "ProductID",
                    "type": "string",
                    "nullable": true,
                    "metadata": {}
                  },
                  {
                    "name": "ProductName",
                    "type": "string",
                    "nullable": true,
                    "metadata": {}
                  },
                  {
                    "name": "Category",
                    "type": "string",
                    "nullable": true,
                    "metadata": {}
                  },
                  {
                    "name": "ListPrice",
                    "type": "string",
                    "nullable": true,
                    "metadata": {}
                  }
                ]
              },
              "data": [
                [
                  "771",
                  "Mountain-100 Silver, 38",
                  "Mountain Bikes",
                  "3399.9900"
                ],
                [
                  "772",
                  "Mountain-100 Silver, 42",
                  "Mountain Bikes",
                  "3399.9900"
                ],
                [
                  "773",
                  "Mountain-100 Silver, 44",
                  "Mountain Bikes",
                  "3399.9900"
                ],
                [
                  "774",
                  "Mountain-100 Silver, 48",
                  "Mountain Bikes",
                  "3399.9900"
                ],
                [
                  "775",
                  "Mountain-100 Black, 38",
                  "Mountain Bikes",
                  "3374.9900"
                ],
                [
                  "776",
                  "Mountain-100 Black, 42",
                  "Mountain Bikes",
                  "3374.9900"
                ],
                [
                  "777",
                  "Mountain-100 Black, 44",
                  "Mountain Bikes",
                  "3374.9900"
                ],
                [
                  "778",
                  "Mountain-100 Black, 48",
                  "Mountain Bikes",
                  "3374.9900"
                ],
                [
                  "779",
                  "Mountain-200 Silver, 38",
                  "Mountain Bikes",
                  "2319.9900"
                ],
                [
                  "780",
                  "Mountain-200 Silver, 42",
                  "Mountain Bikes",
                  "2319.9900"
                ],
                [
                  "781",
                  "Mountain-200 Silver, 46",
                  "Mountain Bikes",
                  "2319.9900"
                ],
                [
                  "782",
                  "Mountain-200 Black, 38",
                  "Mountain Bikes",
                  "2294.9900"
                ],
                [
                  "783",
                  "Mountain-200 Black, 42",
                  "Mountain Bikes",
                  "2294.9900"
                ],
                [
                  "784",
                  "Mountain-200 Black, 46",
                  "Mountain Bikes",
                  "2294.9900"
                ],
                [
                  "785",
                  "Mountain-300 Black, 38",
                  "Mountain Bikes",
                  "1079.9900"
                ],
                [
                  "786",
                  "Mountain-300 Black, 40",
                  "Mountain Bikes",
                  "1079.9900"
                ],
                [
                  "787",
                  "Mountain-300 Black, 44",
                  "Mountain Bikes",
                  "1079.9900"
                ],
                [
                  "788",
                  "Mountain-300 Black, 48",
                  "Mountain Bikes",
                  "1079.9900"
                ],
                [
                  "980",
                  "Mountain-400-W Silver, 38",
                  "Mountain Bikes",
                  "769.4900"
                ],
                [
                  "981",
                  "Mountain-400-W Silver, 40",
                  "Mountain Bikes",
                  "769.4900"
                ],
                [
                  "982",
                  "Mountain-400-W Silver, 42",
                  "Mountain Bikes",
                  "769.4900"
                ],
                [
                  "983",
                  "Mountain-400-W Silver, 46",
                  "Mountain Bikes",
                  "769.4900"
                ],
                [
                  "984",
                  "Mountain-500 Silver, 40",
                  "Mountain Bikes",
                  "564.9900"
                ],
                [
                  "985",
                  "Mountain-500 Silver, 42",
                  "Mountain Bikes",
                  "564.9900"
                ],
                [
                  "986",
                  "Mountain-500 Silver, 44",
                  "Mountain Bikes",
                  "564.9900"
                ],
                [
                  "987",
                  "Mountain-500 Silver, 48",
                  "Mountain Bikes",
                  "564.9900"
                ],
                [
                  "988",
                  "Mountain-500 Silver, 52",
                  "Mountain Bikes",
                  "564.9900"
                ],
                [
                  "989",
                  "Mountain-500 Black, 40",
                  "Mountain Bikes",
                  "539.9900"
                ],
                [
                  "990",
                  "Mountain-500 Black, 42",
                  "Mountain Bikes",
                  "539.9900"
                ],
                [
                  "991",
                  "Mountain-500 Black, 44",
                  "Mountain Bikes",
                  "539.9900"
                ],
                [
                  "992",
                  "Mountain-500 Black, 48",
                  "Mountain Bikes",
                  "539.9900"
                ],
                [
                  "993",
                  "Mountain-500 Black, 52",
                  "Mountain Bikes",
                  "539.9900"
                ],
                [
                  "973",
                  "Road-350-W Yellow, 40",
                  "Road Bikes",
                  "1700.9900"
                ],
                [
                  "974",
                  "Road-350-W Yellow, 42",
                  "Road Bikes",
                  "1700.9900"
                ],
                [
                  "975",
                  "Road-350-W Yellow, 44",
                  "Road Bikes",
                  "1700.9900"
                ],
                [
                  "976",
                  "Road-350-W Yellow, 48",
                  "Road Bikes",
                  "1700.9900"
                ],
                [
                  "977",
                  "Road-750 Black, 58",
                  "Road Bikes",
                  "539.9900"
                ],
                [
                  "997",
                  "Road-750 Black, 44",
                  "Road Bikes",
                  "539.9900"
                ],
                [
                  "998",
                  "Road-750 Black, 48",
                  "Road Bikes",
                  "539.9900"
                ],
                [
                  "999",
                  "Road-750 Black, 52",
                  "Road Bikes",
                  "539.9900"
                ],
                [
                  "789",
                  "Road-250 Red, 44",
                  "Road Bikes",
                  "2443.3500"
                ],
                [
                  "790",
                  "Road-250 Red, 48",
                  "Road Bikes",
                  "2443.3500"
                ],
                [
                  "791",
                  "Road-250 Red, 52",
                  "Road Bikes",
                  "2443.3500"
                ],
                [
                  "792",
                  "Road-250 Red, 58",
                  "Road Bikes",
                  "2443.3500"
                ],
                [
                  "793",
                  "Road-250 Black, 44",
                  "Road Bikes",
                  "2443.3500"
                ],
                [
                  "794",
                  "Road-250 Black, 48",
                  "Road Bikes",
                  "2443.3500"
                ],
                [
                  "795",
                  "Road-250 Black, 52",
                  "Road Bikes",
                  "2443.3500"
                ],
                [
                  "796",
                  "Road-250 Black, 58",
                  "Road Bikes",
                  "2443.3500"
                ],
                [
                  "797",
                  "Road-550-W Yellow, 38",
                  "Road Bikes",
                  "1120.4900"
                ],
                [
                  "798",
                  "Road-550-W Yellow, 40",
                  "Road Bikes",
                  "1120.4900"
                ],
                [
                  "799",
                  "Road-550-W Yellow, 42",
                  "Road Bikes",
                  "1120.4900"
                ],
                [
                  "800",
                  "Road-550-W Yellow, 44",
                  "Road Bikes",
                  "1120.4900"
                ],
                [
                  "801",
                  "Road-550-W Yellow, 48",
                  "Road Bikes",
                  "1120.4900"
                ],
                [
                  "749",
                  "Road-150 Red, 62",
                  "Road Bikes",
                  "3578.2700"
                ],
                [
                  "750",
                  "Road-150 Red, 44",
                  "Road Bikes",
                  "3578.2700"
                ],
                [
                  "751",
                  "Road-150 Red, 48",
                  "Road Bikes",
                  "3578.2700"
                ],
                [
                  "752",
                  "Road-150 Red, 52",
                  "Road Bikes",
                  "3578.2700"
                ],
                [
                  "753",
                  "Road-150 Red, 56",
                  "Road Bikes",
                  "3578.2700"
                ],
                [
                  "754",
                  "Road-450 Red, 58",
                  "Road Bikes",
                  "1457.9900"
                ],
                [
                  "755",
                  "Road-450 Red, 60",
                  "Road Bikes",
                  "1457.9900"
                ],
                [
                  "756",
                  "Road-450 Red, 44",
                  "Road Bikes",
                  "1457.9900"
                ],
                [
                  "757",
                  "Road-450 Red, 48",
                  "Road Bikes",
                  "1457.9900"
                ],
                [
                  "758",
                  "Road-450 Red, 52",
                  "Road Bikes",
                  "1457.9900"
                ],
                [
                  "759",
                  "Road-650 Red, 58",
                  "Road Bikes",
                  "782.9900"
                ],
                [
                  "760",
                  "Road-650 Red, 60",
                  "Road Bikes",
                  "782.9900"
                ],
                [
                  "761",
                  "Road-650 Red, 62",
                  "Road Bikes",
                  "782.9900"
                ],
                [
                  "762",
                  "Road-650 Red, 44",
                  "Road Bikes",
                  "782.9900"
                ],
                [
                  "763",
                  "Road-650 Red, 48",
                  "Road Bikes",
                  "782.9900"
                ],
                [
                  "764",
                  "Road-650 Red, 52",
                  "Road Bikes",
                  "782.9900"
                ],
                [
                  "765",
                  "Road-650 Black, 58",
                  "Road Bikes",
                  "782.9900"
                ],
                [
                  "766",
                  "Road-650 Black, 60",
                  "Road Bikes",
                  "782.9900"
                ],
                [
                  "767",
                  "Road-650 Black, 62",
                  "Road Bikes",
                  "782.9900"
                ],
                [
                  "768",
                  "Road-650 Black, 44",
                  "Road Bikes",
                  "782.9900"
                ],
                [
                  "769",
                  "Road-650 Black, 48",
                  "Road Bikes",
                  "782.9900"
                ],
                [
                  "770",
                  "Road-650 Black, 52",
                  "Road Bikes",
                  "782.9900"
                ],
                [
                  "978",
                  "Touring-3000 Blue, 44",
                  "Touring Bikes",
                  "742.3500"
                ],
                [
                  "979",
                  "Touring-3000 Blue, 50",
                  "Touring Bikes",
                  "742.3500"
                ],
                [
                  "953",
                  "Touring-2000 Blue, 60",
                  "Touring Bikes",
                  "1214.8500"
                ],
                [
                  "954",
                  "Touring-1000 Yellow, 46",
                  "Touring Bikes",
                  "2384.0700"
                ],
                [
                  "955",
                  "Touring-1000 Yellow, 50",
                  "Touring Bikes",
                  "2384.0700"
                ],
                [
                  "956",
                  "Touring-1000 Yellow, 54",
                  "Touring Bikes",
                  "2384.0700"
                ],
                [
                  "957",
                  "Touring-1000 Yellow, 60",
                  "Touring Bikes",
                  "2384.0700"
                ],
                [
                  "958",
                  "Touring-3000 Blue, 54",
                  "Touring Bikes",
                  "742.3500"
                ],
                [
                  "959",
                  "Touring-3000 Blue, 58",
                  "Touring Bikes",
                  "742.3500"
                ],
                [
                  "960",
                  "Touring-3000 Blue, 62",
                  "Touring Bikes",
                  "742.3500"
                ],
                [
                  "961",
                  "Touring-3000 Yellow, 44",
                  "Touring Bikes",
                  "742.3500"
                ],
                [
                  "962",
                  "Touring-3000 Yellow, 50",
                  "Touring Bikes",
                  "742.3500"
                ],
                [
                  "963",
                  "Touring-3000 Yellow, 54",
                  "Touring Bikes",
                  "742.3500"
                ],
                [
                  "964",
                  "Touring-3000 Yellow, 58",
                  "Touring Bikes",
                  "742.3500"
                ],
                [
                  "965",
                  "Touring-3000 Yellow, 62",
                  "Touring Bikes",
                  "742.3500"
                ],
                [
                  "966",
                  "Touring-1000 Blue, 46",
                  "Touring Bikes",
                  "2384.0700"
                ],
                [
                  "967",
                  "Touring-1000 Blue, 50",
                  "Touring Bikes",
                  "2384.0700"
                ],
                [
                  "968",
                  "Touring-1000 Blue, 54",
                  "Touring Bikes",
                  "2384.0700"
                ],
                [
                  "969",
                  "Touring-1000 Blue, 60",
                  "Touring Bikes",
                  "2384.0700"
                ],
                [
                  "970",
                  "Touring-2000 Blue, 46",
                  "Touring Bikes",
                  "1214.8500"
                ],
                [
                  "971",
                  "Touring-2000 Blue, 50",
                  "Touring Bikes",
                  "1214.8500"
                ],
                [
                  "972",
                  "Touring-2000 Blue, 54",
                  "Touring Bikes",
                  "1214.8500"
                ],
                [
                  "946",
                  "LL Touring Handlebars",
                  "Handlebars",
                  "46.0900"
                ],
                [
                  "947",
                  "HL Touring Handlebars",
                  "Handlebars",
                  "91.5700"
                ],
                [
                  "808",
                  "LL Mountain Handlebars",
                  "Handlebars",
                  "44.5400"
                ],
                [
                  "809",
                  "ML Mountain Handlebars",
                  "Handlebars",
                  "61.9200"
                ],
                [
                  "810",
                  "HL Mountain Handlebars",
                  "Handlebars",
                  "120.2700"
                ],
                [
                  "811",
                  "LL Road Handlebars",
                  "Handlebars",
                  "44.5400"
                ],
                [
                  "812",
                  "ML Road Handlebars",
                  "Handlebars",
                  "61.9200"
                ],
                [
                  "813",
                  "HL Road Handlebars",
                  "Handlebars",
                  "120.2700"
                ],
                [
                  "994",
                  "LL Bottom Bracket",
                  "Bottom Brackets",
                  "53.9900"
                ],
                [
                  "995",
                  "ML Bottom Bracket",
                  "Bottom Brackets",
                  "101.2400"
                ],
                [
                  "996",
                  "HL Bottom Bracket",
                  "Bottom Brackets",
                  "121.4900"
                ],
                [
                  "948",
                  "Front Brakes",
                  "Brakes",
                  "106.5000"
                ],
                [
                  "907",
                  "Rear Brakes",
                  "Brakes",
                  "106.5000"
                ],
                [
                  "952",
                  "Chain",
                  "Chains",
                  "20.2400"
                ],
                [
                  "949",
                  "LL Crankset",
                  "Cranksets",
                  "175.4900"
                ],
                [
                  "950",
                  "ML Crankset",
                  "Cranksets",
                  "256.4900"
                ],
                [
                  "951",
                  "HL Crankset",
                  "Cranksets",
                  "404.9900"
                ],
                [
                  "945",
                  "Front Derailleur",
                  "Derailleurs",
                  "91.4900"
                ],
                [
                  "894",
                  "Rear Derailleur",
                  "Derailleurs",
                  "121.4600"
                ],
                [
                  "802",
                  "LL Fork",
                  "Forks",
                  "148.2200"
                ],
                [
                  "803",
                  "ML Fork",
                  "Forks",
                  "175.4900"
                ],
                [
                  "804",
                  "HL Fork",
                  "Forks",
                  "229.4900"
                ],
                [
                  "805",
                  "LL Headset",
                  "Headsets",
                  "34.2000"
                ],
                [
                  "806",
                  "ML Headset",
                  "Headsets",
                  "102.2900"
                ],
                [
                  "807",
                  "HL Headset",
                  "Headsets",
                  "124.7300"
                ],
                [
                  "739",
                  "HL Mountain Frame - Silver, 42",
                  "Mountain Frames",
                  "1364.5000"
                ],
                [
                  "740",
                  "HL Mountain Frame - Silver, 44",
                  "Mountain Frames",
                  "1364.5000"
                ],
                [
                  "741",
                  "HL Mountain Frame - Silver, 48",
                  "Mountain Frames",
                  "1364.5000"
                ],
                [
                  "742",
                  "HL Mountain Frame - Silver, 46",
                  "Mountain Frames",
                  "1364.5000"
                ],
                [
                  "743",
                  "HL Mountain Frame - Black, 42",
                  "Mountain Frames",
                  "1349.6000"
                ],
                [
                  "744",
                  "HL Mountain Frame - Black, 44",
                  "Mountain Frames",
                  "1349.6000"
                ],
                [
                  "745",
                  "HL Mountain Frame - Black, 48",
                  "Mountain Frames",
                  "1349.6000"
                ],
                [
                  "746",
                  "HL Mountain Frame - Black, 46",
                  "Mountain Frames",
                  "1349.6000"
                ],
                [
                  "747",
                  "HL Mountain Frame - Black, 38",
                  "Mountain Frames",
                  "1349.6000"
                ],
                [
                  "748",
                  "HL Mountain Frame - Silver, 38",
                  "Mountain Frames",
                  "1364.5000"
                ],
                [
                  "814",
                  "ML Mountain Frame - Black, 38",
                  "Mountain Frames",
                  "348.7600"
                ],
                [
                  "830",
                  "ML Mountain Frame - Black, 40",
                  "Mountain Frames",
                  "348.7600"
                ],
                [
                  "831",
                  "ML Mountain Frame - Black, 44",
                  "Mountain Frames",
                  "348.7600"
                ],
                [
                  "832",
                  "ML Mountain Frame - Black, 48",
                  "Mountain Frames",
                  "348.7600"
                ],
                [
                  "924",
                  "LL Mountain Frame - Black, 42",
                  "Mountain Frames",
                  "249.7900"
                ],
                [
                  "925",
                  "LL Mountain Frame - Black, 44",
                  "Mountain Frames",
                  "249.7900"
                ],
                [
                  "926",
                  "LL Mountain Frame - Black, 48",
                  "Mountain Frames",
                  "249.7900"
                ],
                [
                  "927",
                  "LL Mountain Frame - Black, 52",
                  "Mountain Frames",
                  "249.7900"
                ],
                [
                  "917",
                  "LL Mountain Frame - Silver, 42",
                  "Mountain Frames",
                  "264.0500"
                ],
                [
                  "918",
                  "LL Mountain Frame - Silver, 44",
                  "Mountain Frames",
                  "264.0500"
                ],
                [
                  "919",
                  "LL Mountain Frame - Silver, 48",
                  "Mountain Frames",
                  "264.0500"
                ],
                [
                  "920",
                  "LL Mountain Frame - Silver, 52",
                  "Mountain Frames",
                  "264.0500"
                ],
                [
                  "904",
                  "ML Mountain Frame-W - Silver, 40",
                  "Mountain Frames",
                  "364.0900"
                ],
                [
                  "905",
                  "ML Mountain Frame-W - Silver, 42",
                  "Mountain Frames",
                  "364.0900"
                ],
                [
                  "906",
                  "ML Mountain Frame-W - Silver, 46",
                  "Mountain Frames",
                  "364.0900"
                ],
                [
                  "942",
                  "ML Mountain Frame-W - Silver, 38",
                  "Mountain Frames",
                  "364.0900"
                ],
                [
                  "943",
                  "LL Mountain Frame - Black, 40",
                  "Mountain Frames",
                  "249.7900"
                ],
                [
                  "944",
                  "LL Mountain Frame - Silver, 40",
                  "Mountain Frames",
                  "264.0500"
                ],
                [
                  "935",
                  "LL Mountain Pedal",
                  "Pedals",
                  "40.4900"
                ],
                [
                  "936",
                  "ML Mountain Pedal",
                  "Pedals",
                  "62.0900"
                ],
                [
                  "937",
                  "HL Mountain Pedal",
                  "Pedals",
                  "80.9900"
                ],
                [
                  "938",
                  "LL Road Pedal",
                  "Pedals",
                  "40.4900"
                ],
                [
                  "939",
                  "ML Road Pedal",
                  "Pedals",
                  "62.0900"
                ],
                [
                  "940",
                  "HL Road Pedal",
                  "Pedals",
                  "80.9900"
                ],
                [
                  "941",
                  "Touring Pedal",
                  "Pedals",
                  "80.9900"
                ],
                [
                  "833",
                  "ML Road Frame-W - Yellow, 40",
                  "Road Frames",
                  "594.8300"
                ],
                [
                  "834",
                  "ML Road Frame-W - Yellow, 42",
                  "Road Frames",
                  "594.8300"
                ],
                [
                  "835",
                  "ML Road Frame-W - Yellow, 44",
                  "Road Frames",
                  "594.8300"
                ],
                [
                  "836",
                  "ML Road Frame-W - Yellow, 48",
                  "Road Frames",
                  "594.8300"
                ],
                [
                  "837",
                  "HL Road Frame - Black, 62",
                  "Road Frames",
                  "1431.5000"
                ],
                [
                  "838",
                  "HL Road Frame - Black, 44",
                  "Road Frames",
                  "1431.5000"
                ],
                [
                  "839",
                  "HL Road Frame - Black, 48",
                  "Road Frames",
                  "1431.5000"
                ],
                [
                  "840",
                  "HL Road Frame - Black, 52",
                  "Road Frames",
                  "1431.5000"
                ],
                [
                  "822",
                  "ML Road Frame-W - Yellow, 38",
                  "Road Frames",
                  "594.8300"
                ],
                [
                  "680",
                  "HL Road Frame - Black, 58",
                  "Road Frames",
                  "1431.5000"
                ],
                [
                  "706",
                  "HL Road Frame - Red, 58",
                  "Road Frames",
                  "1431.5000"
                ],
                [
                  "717",
                  "HL Road Frame - Red, 62",
                  "Road Frames",
                  "1431.5000"
                ],
                [
                  "718",
                  "HL Road Frame - Red, 44",
                  "Road Frames",
                  "1431.5000"
                ],
                [
                  "719",
                  "HL Road Frame - Red, 48",
                  "Road Frames",
                  "1431.5000"
                ],
                [
                  "720",
                  "HL Road Frame - Red, 52",
                  "Road Frames",
                  "1431.5000"
                ],
                [
                  "721",
                  "HL Road Frame - Red, 56",
                  "Road Frames",
                  "1431.5000"
                ],
                [
                  "722",
                  "LL Road Frame - Black, 58",
                  "Road Frames",
                  "337.2200"
                ],
                [
                  "723",
                  "LL Road Frame - Black, 60",
                  "Road Frames",
                  "337.2200"
                ],
                [
                  "724",
                  "LL Road Frame - Black, 62",
                  "Road Frames",
                  "337.2200"
                ],
                [
                  "725",
                  "LL Road Frame - Red, 44",
                  "Road Frames",
                  "337.2200"
                ],
                [
                  "726",
                  "LL Road Frame - Red, 48",
                  "Road Frames",
                  "337.2200"
                ],
                [
                  "727",
                  "LL Road Frame - Red, 52",
                  "Road Frames",
                  "337.2200"
                ],
                [
                  "728",
                  "LL Road Frame - Red, 58",
                  "Road Frames",
                  "337.2200"
                ],
                [
                  "729",
                  "LL Road Frame - Red, 60",
                  "Road Frames",
                  "337.2200"
                ],
                [
                  "730",
                  "LL Road Frame - Red, 62",
                  "Road Frames",
                  "337.2200"
                ],
                [
                  "731",
                  "ML Road Frame - Red, 44",
                  "Road Frames",
                  "594.8300"
                ],
                [
                  "732",
                  "ML Road Frame - Red, 48",
                  "Road Frames",
                  "594.8300"
                ],
                [
                  "733",
                  "ML Road Frame - Red, 52",
                  "Road Frames",
                  "594.8300"
                ],
                [
                  "734",
                  "ML Road Frame - Red, 58",
                  "Road Frames",
                  "594.8300"
                ],
                [
                  "735",
                  "ML Road Frame - Red, 60",
                  "Road Frames",
                  "594.8300"
                ],
                [
                  "736",
                  "LL Road Frame - Black, 44",
                  "Road Frames",
                  "337.2200"
                ],
                [
                  "737",
                  "LL Road Frame - Black, 48",
                  "Road Frames",
                  "337.2200"
                ],
                [
                  "738",
                  "LL Road Frame - Black, 52",
                  "Road Frames",
                  "337.2200"
                ],
                [
                  "908",
                  "LL Mountain Seat/Saddle",
                  "Saddles",
                  "27.1200"
                ],
                [
                  "909",
                  "ML Mountain Seat/Saddle",
                  "Saddles",
                  "39.1400"
                ],
                [
                  "910",
                  "HL Mountain Seat/Saddle",
                  "Saddles",
                  "52.6400"
                ],
                [
                  "911",
                  "LL Road Seat/Saddle",
                  "Saddles",
                  "27.1200"
                ],
                [
                  "912",
                  "ML Road Seat/Saddle",
                  "Saddles",
                  "39.1400"
                ],
                [
                  "913",
                  "HL Road Seat/Saddle",
                  "Saddles",
                  "52.6400"
                ],
                [
                  "914",
                  "LL Touring Seat/Saddle",
                  "Saddles",
                  "27.1200"
                ],
                [
                  "915",
                  "ML Touring Seat/Saddle",
                  "Saddles",
                  "39.1400"
                ],
                [
                  "916",
                  "HL Touring Seat/Saddle",
                  "Saddles",
                  "52.6400"
                ],
                [
                  "895",
                  "LL Touring Frame - Blue, 50",
                  "Touring Frames",
                  "333.4200"
                ],
                [
                  "896",
                  "LL Touring Frame - Blue, 54",
                  "Touring Frames",
                  "333.4200"
                ],
                [
                  "897",
                  "LL Touring Frame - Blue, 58",
                  "Touring Frames",
                  "333.4200"
                ],
                [
                  "898",
                  "LL Touring Frame - Blue, 62",
                  "Touring Frames",
                  "333.4200"
                ],
                [
                  "899",
                  "LL Touring Frame - Yellow, 44",
                  "Touring Frames",
                  "333.4200"
                ],
                [
                  "900",
                  "LL Touring Frame - Yellow, 50",
                  "Touring Frames",
                  "333.4200"
                ],
                [
                  "901",
                  "LL Touring Frame - Yellow, 54",
                  "Touring Frames",
                  "333.4200"
                ],
                [
                  "902",
                  "LL Touring Frame - Yellow, 58",
                  "Touring Frames",
                  "333.4200"
                ],
                [
                  "903",
                  "LL Touring Frame - Blue, 44",
                  "Touring Frames",
                  "333.4200"
                ],
                [
                  "885",
                  "HL Touring Frame - Yellow, 60",
                  "Touring Frames",
                  "1003.9100"
                ],
                [
                  "886",
                  "LL Touring Frame - Yellow, 62",
                  "Touring Frames",
                  "333.4200"
                ],
                [
                  "887",
                  "HL Touring Frame - Yellow, 46",
                  "Touring Frames",
                  "1003.9100"
                ],
                [
                  "888",
                  "HL Touring Frame - Yellow, 50",
                  "Touring Frames",
                  "1003.9100"
                ],
                [
                  "889",
                  "HL Touring Frame - Yellow, 54",
                  "Touring Frames",
                  "1003.9100"
                ],
                [
                  "890",
                  "HL Touring Frame - Blue, 46",
                  "Touring Frames",
                  "1003.9100"
                ],
                [
                  "891",
                  "HL Touring Frame - Blue, 50",
                  "Touring Frames",
                  "1003.9100"
                ],
                [
                  "892",
                  "HL Touring Frame - Blue, 54",
                  "Touring Frames",
                  "1003.9100"
                ],
                [
                  "893",
                  "HL Touring Frame - Blue, 60",
                  "Touring Frames",
                  "1003.9100"
                ],
                [
                  "823",
                  "LL Mountain Rear Wheel",
                  "Wheels",
                  "87.7450"
                ],
                [
                  "824",
                  "ML Mountain Rear Wheel",
                  "Wheels",
                  "236.0250"
                ],
                [
                  "825",
                  "HL Mountain Rear Wheel",
                  "Wheels",
                  "327.2150"
                ],
                [
                  "826",
                  "LL Road Rear Wheel",
                  "Wheels",
                  "112.5650"
                ],
                [
                  "827",
                  "ML Road Rear Wheel",
                  "Wheels",
                  "275.3850"
                ],
                [
                  "828",
                  "HL Road Rear Wheel",
                  "Wheels",
                  "357.0600"
                ],
                [
                  "829",
                  "Touring Rear Wheel",
                  "Wheels",
                  "245.0100"
                ],
                [
                  "815",
                  "LL Mountain Front Wheel",
                  "Wheels",
                  "60.7450"
                ],
                [
                  "816",
                  "ML Mountain Front Wheel",
                  "Wheels",
                  "209.0250"
                ],
                [
                  "817",
                  "HL Mountain Front Wheel",
                  "Wheels",
                  "300.2150"
                ],
                [
                  "818",
                  "LL Road Front Wheel",
                  "Wheels",
                  "85.5650"
                ],
                [
                  "819",
                  "ML Road Front Wheel",
                  "Wheels",
                  "248.3850"
                ],
                [
                  "820",
                  "HL Road Front Wheel",
                  "Wheels",
                  "330.0600"
                ],
                [
                  "821",
                  "Touring Front Wheel",
                  "Wheels",
                  "218.0100"
                ],
                [
                  "855",
                  "Men's Bib-Shorts, S",
                  "Bib-Shorts",
                  "89.9900"
                ],
                [
                  "856",
                  "Men's Bib-Shorts, M",
                  "Bib-Shorts",
                  "89.9900"
                ],
                [
                  "857",
                  "Men's Bib-Shorts, L",
                  "Bib-Shorts",
                  "89.9900"
                ],
                [
                  "712",
                  "AWC Logo Cap",
                  "Caps",
                  "8.9900"
                ],
                [
                  "858",
                  "Half-Finger Gloves, S",
                  "Gloves",
                  "24.4900"
                ],
                [
                  "859",
                  "Half-Finger Gloves, M",
                  "Gloves",
                  "24.4900"
                ],
                [
                  "860",
                  "Half-Finger Gloves, L",
                  "Gloves",
                  "24.4900"
                ],
                [
                  "861",
                  "Full-Finger Gloves, S",
                  "Gloves",
                  "37.9900"
                ],
                [
                  "862",
                  "Full-Finger Gloves, M",
                  "Gloves",
                  "37.9900"
                ],
                [
                  "863",
                  "Full-Finger Gloves, L",
                  "Gloves",
                  "37.9900"
                ],
                [
                  "713",
                  "Long-Sleeve Logo Jersey, S",
                  "Jerseys",
                  "49.9900"
                ],
                [
                  "714",
                  "Long-Sleeve Logo Jersey, M",
                  "Jerseys",
                  "49.9900"
                ],
                [
                  "715",
                  "Long-Sleeve Logo Jersey, L",
                  "Jerseys",
                  "49.9900"
                ],
                [
                  "716",
                  "Long-Sleeve Logo Jersey, XL",
                  "Jerseys",
                  "49.9900"
                ],
                [
                  "881",
                  "Short-Sleeve Classic Jersey, S",
                  "Jerseys",
                  "53.9900"
                ],
                [
                  "882",
                  "Short-Sleeve Classic Jersey, M",
                  "Jerseys",
                  "53.9900"
                ],
                [
                  "883",
                  "Short-Sleeve Classic Jersey, L",
                  "Jerseys",
                  "53.9900"
                ],
                [
                  "884",
                  "Short-Sleeve Classic Jersey, XL",
                  "Jerseys",
                  "53.9900"
                ],
                [
                  "867",
                  "Women's Mountain Shorts, S",
                  "Shorts",
                  "69.9900"
                ],
                [
                  "868",
                  "Women's Mountain Shorts, M",
                  "Shorts",
                  "69.9900"
                ],
                [
                  "869",
                  "Women's Mountain Shorts, L",
                  "Shorts",
                  "69.9900"
                ],
                [
                  "841",
                  "Men's Sports Shorts, S",
                  "Shorts",
                  "59.9900"
                ],
                [
                  "849",
                  "Men's Sports Shorts, M",
                  "Shorts",
                  "59.9900"
                ],
                [
                  "850",
                  "Men's Sports Shorts, L",
                  "Shorts",
                  "59.9900"
                ],
                [
                  "851",
                  "Men's Sports Shorts, XL",
                  "Shorts",
                  "59.9900"
                ],
                [
                  "709",
                  "Mountain Bike Socks, M",
                  "Socks",
                  "9.5000"
                ],
                [
                  "710",
                  "Mountain Bike Socks, L",
                  "Socks",
                  "9.5000"
                ],
                [
                  "874",
                  "Racing Socks, M",
                  "Socks",
                  "8.9900"
                ],
                [
                  "875",
                  "Racing Socks, L",
                  "Socks",
                  "8.9900"
                ],
                [
                  "852",
                  "Women's Tights, S",
                  "Tights",
                  "74.9900"
                ],
                [
                  "853",
                  "Women's Tights, M",
                  "Tights",
                  "74.9900"
                ],
                [
                  "854",
                  "Women's Tights, L",
                  "Tights",
                  "74.9900"
                ],
                [
                  "864",
                  "Classic Vest, S",
                  "Vests",
                  "63.5000"
                ],
                [
                  "865",
                  "Classic Vest, M",
                  "Vests",
                  "63.5000"
                ],
                [
                  "866",
                  "Classic Vest, L",
                  "Vests",
                  "63.5000"
                ],
                [
                  "876",
                  "Hitch Rack - 4-Bike",
                  "Bike Racks",
                  "120.0000"
                ],
                [
                  "879",
                  "All-Purpose Bike Stand",
                  "Bike Stands",
                  "159.0000"
                ],
                [
                  "870",
                  "Water Bottle - 30 oz.",
                  "Bottles and Cages",
                  "4.9900"
                ],
                [
                  "871",
                  "Mountain Bottle Cage",
                  "Bottles and Cages",
                  "9.9900"
                ],
                [
                  "872",
                  "Road Bottle Cage",
                  "Bottles and Cages",
                  "8.9900"
                ],
                [
                  "877",
                  "Bike Wash - Dissolver",
                  "Cleaners",
                  "7.9500"
                ],
                [
                  "878",
                  "Fender Set - Mountain",
                  "Fenders",
                  "21.9800"
                ],
                [
                  "711",
                  "Sport-100 Helmet, Blue",
                  "Helmets",
                  "34.9900"
                ],
                [
                  "707",
                  "Sport-100 Helmet, Red",
                  "Helmets",
                  "34.9900"
                ],
                [
                  "708",
                  "Sport-100 Helmet, Black",
                  "Helmets",
                  "34.9900"
                ],
                [
                  "880",
                  "Hydration Pack - 70 oz.",
                  "Hydration Packs",
                  "54.9900"
                ],
                [
                  "846",
                  "Taillights - Battery-Powered",
                  "Lights",
                  "13.9900"
                ],
                [
                  "847",
                  "Headlights - Dual-Beam",
                  "Lights",
                  "34.9900"
                ],
                [
                  "848",
                  "Headlights - Weatherproof",
                  "Lights",
                  "44.9900"
                ],
                [
                  "843",
                  "Cable Lock",
                  "Locks",
                  "25.0000"
                ],
                [
                  "842",
                  "Touring-Panniers, Large",
                  "Panniers",
                  "125.0000"
                ],
                [
                  "844",
                  "Minipump",
                  "Pumps",
                  "19.9900"
                ],
                [
                  "845",
                  "Mountain Pump",
                  "Pumps",
                  "24.9900"
                ],
                [
                  "873",
                  "Patch Kit/8 Patches",
                  "Tires and Tubes",
                  "2.2900"
                ],
                [
                  "921",
                  "Mountain Tire Tube",
                  "Tires and Tubes",
                  "4.9900"
                ],
                [
                  "922",
                  "Road Tire Tube",
                  "Tires and Tubes",
                  "3.9900"
                ],
                [
                  "923",
                  "Touring Tire Tube",
                  "Tires and Tubes",
                  "4.9900"
                ],
                [
                  "928",
                  "LL Mountain Tire",
                  "Tires and Tubes",
                  "24.9900"
                ],
                [
                  "929",
                  "ML Mountain Tire",
                  "Tires and Tubes",
                  "29.9900"
                ],
                [
                  "930",
                  "HL Mountain Tire",
                  "Tires and Tubes",
                  "35.0000"
                ],
                [
                  "931",
                  "LL Road Tire",
                  "Tires and Tubes",
                  "21.4900"
                ],
                [
                  "932",
                  "ML Road Tire",
                  "Tires and Tubes",
                  "24.9900"
                ],
                [
                  "933",
                  "HL Road Tire",
                  "Tires and Tubes",
                  "32.6000"
                ],
                [
                  "934",
                  "Touring Tire",
                  "Tires and Tubes",
                  "28.9900"
                ]
              ]
            },
            "text/plain": "<Spark SQL result set with 295 rows and 4 fields>"
          },
          "metadata": {}
        }
      ],
      "execution_count": 42,
      "metadata": {
        "jupyter": {
          "source_hidden": false,
          "outputs_hidden": false
        },
        "nteract": {
          "transient": {
            "deleting": false
          }
        },
        "microsoft": {
          "language": "sparksql"
        },
        "collapsed": false
      }
    },
    {
      "cell_type": "code",
      "source": [
        " %%sql\r\n",
        "\r\n",
        " USE AdventureWorks;\r\n",
        "\r\n",
        " SHOW TABLES;"
      ],
      "outputs": [
        {
          "output_type": "display_data",
          "data": {
            "application/vnd.livy.statement-meta+json": {
              "spark_pool": "sparka83eylv",
              "statement_id": 48,
              "statement_ids": [
                47,
                48
              ],
              "state": "finished",
              "livy_statement_state": "available",
              "spark_jobs": null,
              "session_id": "0",
              "normalized_state": "finished",
              "queued_time": "2025-01-05T12:34:43.2064931Z",
              "session_start_time": null,
              "execution_start_time": "2025-01-05T12:34:43.3323022Z",
              "execution_finish_time": "2025-01-05T12:34:44.1588679Z",
              "parent_msg_id": "56702d2e-7eb8-4eae-9fcf-f7af7b13e363"
            },
            "text/plain": "StatementMeta(sparka83eylv, 0, 48, Finished, Available, Finished)"
          },
          "metadata": {}
        },
        {
          "output_type": "execute_result",
          "execution_count": 43,
          "data": {
            "application/vnd.synapse.sparksql-result+json": {
              "schema": {
                "type": "struct",
                "fields": []
              },
              "data": []
            },
            "text/plain": "<Spark SQL result set with 0 rows and 0 fields>"
          },
          "metadata": {}
        },
        {
          "output_type": "execute_result",
          "execution_count": 43,
          "data": {
            "application/vnd.synapse.sparksql-result+json": {
              "schema": {
                "type": "struct",
                "fields": [
                  {
                    "name": "namespace",
                    "type": "string",
                    "nullable": false,
                    "metadata": {}
                  },
                  {
                    "name": "tableName",
                    "type": "string",
                    "nullable": false,
                    "metadata": {}
                  },
                  {
                    "name": "isTemporary",
                    "type": "boolean",
                    "nullable": false,
                    "metadata": {}
                  }
                ]
              },
              "data": [
                [
                  "adventureworks",
                  "productexternal",
                  false
                ],
                [
                  "adventureworks",
                  "productsmanaged",
                  false
                ],
                [
                  "adventureworks",
                  "productmanaged",
                  false
                ]
              ]
            },
            "text/plain": "<Spark SQL result set with 3 rows and 3 fields>"
          },
          "metadata": {}
        }
      ],
      "execution_count": 43,
      "metadata": {
        "jupyter": {
          "source_hidden": false,
          "outputs_hidden": false
        },
        "nteract": {
          "transient": {
            "deleting": false
          }
        },
        "microsoft": {
          "language": "sparksql"
        },
        "collapsed": false
      }
    },
    {
      "cell_type": "code",
      "source": [
        " %%sql\r\n",
        "\r\n",
        " USE AdventureWorks;\r\n",
        "\r\n",
        " DROP TABLE IF EXISTS ProductsExternal;\r\n",
        " DROP TABLE IF EXISTS ProductsManaged;"
      ],
      "outputs": [
        {
          "output_type": "display_data",
          "data": {
            "application/vnd.livy.statement-meta+json": {
              "spark_pool": "sparka83eylv",
              "statement_id": 51,
              "statement_ids": [
                49,
                50,
                51
              ],
              "state": "finished",
              "livy_statement_state": "available",
              "spark_jobs": null,
              "session_id": "0",
              "normalized_state": "finished",
              "queued_time": "2025-01-05T12:35:03.223052Z",
              "session_start_time": null,
              "execution_start_time": "2025-01-05T12:35:03.3445671Z",
              "execution_finish_time": "2025-01-05T12:35:07.4562805Z",
              "parent_msg_id": "06c709fc-e354-4394-9591-244b891f7a63"
            },
            "text/plain": "StatementMeta(sparka83eylv, 0, 51, Finished, Available, Finished)"
          },
          "metadata": {}
        },
        {
          "output_type": "execute_result",
          "execution_count": 44,
          "data": {
            "application/vnd.synapse.sparksql-result+json": {
              "schema": {
                "type": "struct",
                "fields": []
              },
              "data": []
            },
            "text/plain": "<Spark SQL result set with 0 rows and 0 fields>"
          },
          "metadata": {}
        },
        {
          "output_type": "execute_result",
          "execution_count": 44,
          "data": {
            "application/vnd.synapse.sparksql-result+json": {
              "schema": {
                "type": "struct",
                "fields": []
              },
              "data": []
            },
            "text/plain": "<Spark SQL result set with 0 rows and 0 fields>"
          },
          "metadata": {}
        },
        {
          "output_type": "execute_result",
          "execution_count": 44,
          "data": {
            "application/vnd.synapse.sparksql-result+json": {
              "schema": {
                "type": "struct",
                "fields": []
              },
              "data": []
            },
            "text/plain": "<Spark SQL result set with 0 rows and 0 fields>"
          },
          "metadata": {}
        }
      ],
      "execution_count": 44,
      "metadata": {
        "jupyter": {
          "source_hidden": false,
          "outputs_hidden": false
        },
        "nteract": {
          "transient": {
            "deleting": false
          }
        },
        "microsoft": {
          "language": "sparksql"
        },
        "collapsed": false
      }
    },
    {
      "cell_type": "code",
      "source": [
        "%%sql\r\n",
        "USE AdventureWorks;\r\n",
        "CREATE TABLE Products USING DELTA LOCATION '/delta/products-delta';"
      ],
      "outputs": [
        {
          "output_type": "display_data",
          "data": {
            "application/vnd.livy.statement-meta+json": {
              "spark_pool": "sparka83eylv",
              "statement_id": 53,
              "statement_ids": [
                52,
                53
              ],
              "state": "finished",
              "livy_statement_state": "available",
              "spark_jobs": null,
              "session_id": "0",
              "normalized_state": "finished",
              "queued_time": "2025-01-05T12:37:41.1647616Z",
              "session_start_time": null,
              "execution_start_time": "2025-01-05T12:37:41.2895038Z",
              "execution_finish_time": "2025-01-05T12:37:44.2334999Z",
              "parent_msg_id": "5787b5c5-37c5-4781-a442-cae4734277e7"
            },
            "text/plain": "StatementMeta(sparka83eylv, 0, 53, Finished, Available, Finished)"
          },
          "metadata": {}
        },
        {
          "output_type": "execute_result",
          "execution_count": 45,
          "data": {
            "application/vnd.synapse.sparksql-result+json": {
              "schema": {
                "type": "struct",
                "fields": []
              },
              "data": []
            },
            "text/plain": "<Spark SQL result set with 0 rows and 0 fields>"
          },
          "metadata": {}
        },
        {
          "output_type": "execute_result",
          "execution_count": 45,
          "data": {
            "application/vnd.synapse.sparksql-result+json": {
              "schema": {
                "type": "struct",
                "fields": []
              },
              "data": []
            },
            "text/plain": "<Spark SQL result set with 0 rows and 0 fields>"
          },
          "metadata": {}
        }
      ],
      "execution_count": 45,
      "metadata": {
        "jupyter": {
          "source_hidden": false,
          "outputs_hidden": false
        },
        "nteract": {
          "transient": {
            "deleting": false
          }
        },
        "microsoft": {
          "language": "sparksql"
        },
        "collapsed": false
      }
    },
    {
      "cell_type": "code",
      "source": [
        " %%sql\r\n",
        "\r\n",
        " USE AdventureWorks;\r\n",
        "\r\n",
        " SELECT * FROM Products;"
      ],
      "outputs": [
        {
          "output_type": "display_data",
          "data": {
            "application/vnd.livy.statement-meta+json": {
              "spark_pool": "sparka83eylv",
              "statement_id": 55,
              "statement_ids": [
                54,
                55
              ],
              "state": "finished",
              "livy_statement_state": "available",
              "spark_jobs": null,
              "session_id": "0",
              "normalized_state": "finished",
              "queued_time": "2025-01-05T12:38:01.1789475Z",
              "session_start_time": null,
              "execution_start_time": "2025-01-05T12:38:01.292116Z",
              "execution_finish_time": "2025-01-05T12:38:02.5256327Z",
              "parent_msg_id": "2cd8eebf-d375-4fac-955f-3cba0300ddff"
            },
            "text/plain": "StatementMeta(sparka83eylv, 0, 55, Finished, Available, Finished)"
          },
          "metadata": {}
        },
        {
          "output_type": "execute_result",
          "execution_count": 46,
          "data": {
            "application/vnd.synapse.sparksql-result+json": {
              "schema": {
                "type": "struct",
                "fields": []
              },
              "data": []
            },
            "text/plain": "<Spark SQL result set with 0 rows and 0 fields>"
          },
          "metadata": {}
        },
        {
          "output_type": "execute_result",
          "execution_count": 46,
          "data": {
            "application/vnd.synapse.sparksql-result+json": {
              "schema": {
                "type": "struct",
                "fields": [
                  {
                    "name": "ProductID",
                    "type": "string",
                    "nullable": true,
                    "metadata": {}
                  },
                  {
                    "name": "ProductName",
                    "type": "string",
                    "nullable": true,
                    "metadata": {}
                  },
                  {
                    "name": "Category",
                    "type": "string",
                    "nullable": true,
                    "metadata": {}
                  },
                  {
                    "name": "ListPrice",
                    "type": "string",
                    "nullable": true,
                    "metadata": {}
                  }
                ]
              },
              "data": [
                [
                  "771",
                  "Mountain-100 Silver, 38",
                  "Mountain Bikes",
                  "3059.991"
                ],
                [
                  "772",
                  "Mountain-100 Silver, 42",
                  "Mountain Bikes",
                  "815.9976"
                ],
                [
                  "773",
                  "Mountain-100 Silver, 44",
                  "Mountain Bikes",
                  "3399.9900"
                ],
                [
                  "774",
                  "Mountain-100 Silver, 48",
                  "Mountain Bikes",
                  "3399.9900"
                ],
                [
                  "775",
                  "Mountain-100 Black, 38",
                  "Mountain Bikes",
                  "3374.9900"
                ],
                [
                  "776",
                  "Mountain-100 Black, 42",
                  "Mountain Bikes",
                  "3374.9900"
                ],
                [
                  "777",
                  "Mountain-100 Black, 44",
                  "Mountain Bikes",
                  "3374.9900"
                ],
                [
                  "778",
                  "Mountain-100 Black, 48",
                  "Mountain Bikes",
                  "3374.9900"
                ],
                [
                  "779",
                  "Mountain-200 Silver, 38",
                  "Mountain Bikes",
                  "2319.9900"
                ],
                [
                  "780",
                  "Mountain-200 Silver, 42",
                  "Mountain Bikes",
                  "2319.9900"
                ],
                [
                  "781",
                  "Mountain-200 Silver, 46",
                  "Mountain Bikes",
                  "2319.9900"
                ],
                [
                  "782",
                  "Mountain-200 Black, 38",
                  "Mountain Bikes",
                  "2294.9900"
                ],
                [
                  "783",
                  "Mountain-200 Black, 42",
                  "Mountain Bikes",
                  "2294.9900"
                ],
                [
                  "784",
                  "Mountain-200 Black, 46",
                  "Mountain Bikes",
                  "2294.9900"
                ],
                [
                  "785",
                  "Mountain-300 Black, 38",
                  "Mountain Bikes",
                  "1079.9900"
                ],
                [
                  "786",
                  "Mountain-300 Black, 40",
                  "Mountain Bikes",
                  "1079.9900"
                ],
                [
                  "787",
                  "Mountain-300 Black, 44",
                  "Mountain Bikes",
                  "1079.9900"
                ],
                [
                  "788",
                  "Mountain-300 Black, 48",
                  "Mountain Bikes",
                  "1079.9900"
                ],
                [
                  "980",
                  "Mountain-400-W Silver, 38",
                  "Mountain Bikes",
                  "769.4900"
                ],
                [
                  "981",
                  "Mountain-400-W Silver, 40",
                  "Mountain Bikes",
                  "769.4900"
                ],
                [
                  "982",
                  "Mountain-400-W Silver, 42",
                  "Mountain Bikes",
                  "769.4900"
                ],
                [
                  "983",
                  "Mountain-400-W Silver, 46",
                  "Mountain Bikes",
                  "769.4900"
                ],
                [
                  "984",
                  "Mountain-500 Silver, 40",
                  "Mountain Bikes",
                  "564.9900"
                ],
                [
                  "985",
                  "Mountain-500 Silver, 42",
                  "Mountain Bikes",
                  "564.9900"
                ],
                [
                  "986",
                  "Mountain-500 Silver, 44",
                  "Mountain Bikes",
                  "564.9900"
                ],
                [
                  "987",
                  "Mountain-500 Silver, 48",
                  "Mountain Bikes",
                  "564.9900"
                ],
                [
                  "988",
                  "Mountain-500 Silver, 52",
                  "Mountain Bikes",
                  "564.9900"
                ],
                [
                  "989",
                  "Mountain-500 Black, 40",
                  "Mountain Bikes",
                  "539.9900"
                ],
                [
                  "990",
                  "Mountain-500 Black, 42",
                  "Mountain Bikes",
                  "539.9900"
                ],
                [
                  "991",
                  "Mountain-500 Black, 44",
                  "Mountain Bikes",
                  "539.9900"
                ],
                [
                  "992",
                  "Mountain-500 Black, 48",
                  "Mountain Bikes",
                  "539.9900"
                ],
                [
                  "993",
                  "Mountain-500 Black, 52",
                  "Mountain Bikes",
                  "539.9900"
                ],
                [
                  "973",
                  "Road-350-W Yellow, 40",
                  "Road Bikes",
                  "1700.9900"
                ],
                [
                  "974",
                  "Road-350-W Yellow, 42",
                  "Road Bikes",
                  "1700.9900"
                ],
                [
                  "975",
                  "Road-350-W Yellow, 44",
                  "Road Bikes",
                  "1700.9900"
                ],
                [
                  "976",
                  "Road-350-W Yellow, 48",
                  "Road Bikes",
                  "1700.9900"
                ],
                [
                  "977",
                  "Road-750 Black, 58",
                  "Road Bikes",
                  "539.9900"
                ],
                [
                  "997",
                  "Road-750 Black, 44",
                  "Road Bikes",
                  "539.9900"
                ],
                [
                  "998",
                  "Road-750 Black, 48",
                  "Road Bikes",
                  "539.9900"
                ],
                [
                  "999",
                  "Road-750 Black, 52",
                  "Road Bikes",
                  "539.9900"
                ],
                [
                  "789",
                  "Road-250 Red, 44",
                  "Road Bikes",
                  "2443.3500"
                ],
                [
                  "790",
                  "Road-250 Red, 48",
                  "Road Bikes",
                  "2443.3500"
                ],
                [
                  "791",
                  "Road-250 Red, 52",
                  "Road Bikes",
                  "2443.3500"
                ],
                [
                  "792",
                  "Road-250 Red, 58",
                  "Road Bikes",
                  "2443.3500"
                ],
                [
                  "793",
                  "Road-250 Black, 44",
                  "Road Bikes",
                  "2443.3500"
                ],
                [
                  "794",
                  "Road-250 Black, 48",
                  "Road Bikes",
                  "2443.3500"
                ],
                [
                  "795",
                  "Road-250 Black, 52",
                  "Road Bikes",
                  "2443.3500"
                ],
                [
                  "796",
                  "Road-250 Black, 58",
                  "Road Bikes",
                  "2443.3500"
                ],
                [
                  "797",
                  "Road-550-W Yellow, 38",
                  "Road Bikes",
                  "1120.4900"
                ],
                [
                  "798",
                  "Road-550-W Yellow, 40",
                  "Road Bikes",
                  "1120.4900"
                ],
                [
                  "799",
                  "Road-550-W Yellow, 42",
                  "Road Bikes",
                  "1120.4900"
                ],
                [
                  "800",
                  "Road-550-W Yellow, 44",
                  "Road Bikes",
                  "1120.4900"
                ],
                [
                  "801",
                  "Road-550-W Yellow, 48",
                  "Road Bikes",
                  "1120.4900"
                ],
                [
                  "749",
                  "Road-150 Red, 62",
                  "Road Bikes",
                  "3578.2700"
                ],
                [
                  "750",
                  "Road-150 Red, 44",
                  "Road Bikes",
                  "3578.2700"
                ],
                [
                  "751",
                  "Road-150 Red, 48",
                  "Road Bikes",
                  "3578.2700"
                ],
                [
                  "752",
                  "Road-150 Red, 52",
                  "Road Bikes",
                  "3578.2700"
                ],
                [
                  "753",
                  "Road-150 Red, 56",
                  "Road Bikes",
                  "3578.2700"
                ],
                [
                  "754",
                  "Road-450 Red, 58",
                  "Road Bikes",
                  "1457.9900"
                ],
                [
                  "755",
                  "Road-450 Red, 60",
                  "Road Bikes",
                  "1457.9900"
                ],
                [
                  "756",
                  "Road-450 Red, 44",
                  "Road Bikes",
                  "1457.9900"
                ],
                [
                  "757",
                  "Road-450 Red, 48",
                  "Road Bikes",
                  "1457.9900"
                ],
                [
                  "758",
                  "Road-450 Red, 52",
                  "Road Bikes",
                  "1457.9900"
                ],
                [
                  "759",
                  "Road-650 Red, 58",
                  "Road Bikes",
                  "782.9900"
                ],
                [
                  "760",
                  "Road-650 Red, 60",
                  "Road Bikes",
                  "782.9900"
                ],
                [
                  "761",
                  "Road-650 Red, 62",
                  "Road Bikes",
                  "782.9900"
                ],
                [
                  "762",
                  "Road-650 Red, 44",
                  "Road Bikes",
                  "782.9900"
                ],
                [
                  "763",
                  "Road-650 Red, 48",
                  "Road Bikes",
                  "782.9900"
                ],
                [
                  "764",
                  "Road-650 Red, 52",
                  "Road Bikes",
                  "782.9900"
                ],
                [
                  "765",
                  "Road-650 Black, 58",
                  "Road Bikes",
                  "782.9900"
                ],
                [
                  "766",
                  "Road-650 Black, 60",
                  "Road Bikes",
                  "782.9900"
                ],
                [
                  "767",
                  "Road-650 Black, 62",
                  "Road Bikes",
                  "782.9900"
                ],
                [
                  "768",
                  "Road-650 Black, 44",
                  "Road Bikes",
                  "782.9900"
                ],
                [
                  "769",
                  "Road-650 Black, 48",
                  "Road Bikes",
                  "782.9900"
                ],
                [
                  "770",
                  "Road-650 Black, 52",
                  "Road Bikes",
                  "782.9900"
                ],
                [
                  "978",
                  "Touring-3000 Blue, 44",
                  "Touring Bikes",
                  "742.3500"
                ],
                [
                  "979",
                  "Touring-3000 Blue, 50",
                  "Touring Bikes",
                  "742.3500"
                ],
                [
                  "953",
                  "Touring-2000 Blue, 60",
                  "Touring Bikes",
                  "1214.8500"
                ],
                [
                  "954",
                  "Touring-1000 Yellow, 46",
                  "Touring Bikes",
                  "2384.0700"
                ],
                [
                  "955",
                  "Touring-1000 Yellow, 50",
                  "Touring Bikes",
                  "2384.0700"
                ],
                [
                  "956",
                  "Touring-1000 Yellow, 54",
                  "Touring Bikes",
                  "2384.0700"
                ],
                [
                  "957",
                  "Touring-1000 Yellow, 60",
                  "Touring Bikes",
                  "2384.0700"
                ],
                [
                  "958",
                  "Touring-3000 Blue, 54",
                  "Touring Bikes",
                  "742.3500"
                ],
                [
                  "959",
                  "Touring-3000 Blue, 58",
                  "Touring Bikes",
                  "742.3500"
                ],
                [
                  "960",
                  "Touring-3000 Blue, 62",
                  "Touring Bikes",
                  "742.3500"
                ],
                [
                  "961",
                  "Touring-3000 Yellow, 44",
                  "Touring Bikes",
                  "742.3500"
                ],
                [
                  "962",
                  "Touring-3000 Yellow, 50",
                  "Touring Bikes",
                  "742.3500"
                ],
                [
                  "963",
                  "Touring-3000 Yellow, 54",
                  "Touring Bikes",
                  "742.3500"
                ],
                [
                  "964",
                  "Touring-3000 Yellow, 58",
                  "Touring Bikes",
                  "742.3500"
                ],
                [
                  "965",
                  "Touring-3000 Yellow, 62",
                  "Touring Bikes",
                  "742.3500"
                ],
                [
                  "966",
                  "Touring-1000 Blue, 46",
                  "Touring Bikes",
                  "2384.0700"
                ],
                [
                  "967",
                  "Touring-1000 Blue, 50",
                  "Touring Bikes",
                  "2384.0700"
                ],
                [
                  "968",
                  "Touring-1000 Blue, 54",
                  "Touring Bikes",
                  "2384.0700"
                ],
                [
                  "969",
                  "Touring-1000 Blue, 60",
                  "Touring Bikes",
                  "2384.0700"
                ],
                [
                  "970",
                  "Touring-2000 Blue, 46",
                  "Touring Bikes",
                  "1214.8500"
                ],
                [
                  "971",
                  "Touring-2000 Blue, 50",
                  "Touring Bikes",
                  "1214.8500"
                ],
                [
                  "972",
                  "Touring-2000 Blue, 54",
                  "Touring Bikes",
                  "1214.8500"
                ],
                [
                  "946",
                  "LL Touring Handlebars",
                  "Handlebars",
                  "46.0900"
                ],
                [
                  "947",
                  "HL Touring Handlebars",
                  "Handlebars",
                  "91.5700"
                ],
                [
                  "808",
                  "LL Mountain Handlebars",
                  "Handlebars",
                  "44.5400"
                ],
                [
                  "809",
                  "ML Mountain Handlebars",
                  "Handlebars",
                  "61.9200"
                ],
                [
                  "810",
                  "HL Mountain Handlebars",
                  "Handlebars",
                  "120.2700"
                ],
                [
                  "811",
                  "LL Road Handlebars",
                  "Handlebars",
                  "44.5400"
                ],
                [
                  "812",
                  "ML Road Handlebars",
                  "Handlebars",
                  "61.9200"
                ],
                [
                  "813",
                  "HL Road Handlebars",
                  "Handlebars",
                  "120.2700"
                ],
                [
                  "994",
                  "LL Bottom Bracket",
                  "Bottom Brackets",
                  "53.9900"
                ],
                [
                  "995",
                  "ML Bottom Bracket",
                  "Bottom Brackets",
                  "101.2400"
                ],
                [
                  "996",
                  "HL Bottom Bracket",
                  "Bottom Brackets",
                  "121.4900"
                ],
                [
                  "948",
                  "Front Brakes",
                  "Brakes",
                  "106.5000"
                ],
                [
                  "907",
                  "Rear Brakes",
                  "Brakes",
                  "106.5000"
                ],
                [
                  "952",
                  "Chain",
                  "Chains",
                  "20.2400"
                ],
                [
                  "949",
                  "LL Crankset",
                  "Cranksets",
                  "175.4900"
                ],
                [
                  "950",
                  "ML Crankset",
                  "Cranksets",
                  "256.4900"
                ],
                [
                  "951",
                  "HL Crankset",
                  "Cranksets",
                  "404.9900"
                ],
                [
                  "945",
                  "Front Derailleur",
                  "Derailleurs",
                  "91.4900"
                ],
                [
                  "894",
                  "Rear Derailleur",
                  "Derailleurs",
                  "121.4600"
                ],
                [
                  "802",
                  "LL Fork",
                  "Forks",
                  "148.2200"
                ],
                [
                  "803",
                  "ML Fork",
                  "Forks",
                  "175.4900"
                ],
                [
                  "804",
                  "HL Fork",
                  "Forks",
                  "229.4900"
                ],
                [
                  "805",
                  "LL Headset",
                  "Headsets",
                  "34.2000"
                ],
                [
                  "806",
                  "ML Headset",
                  "Headsets",
                  "102.2900"
                ],
                [
                  "807",
                  "HL Headset",
                  "Headsets",
                  "124.7300"
                ],
                [
                  "739",
                  "HL Mountain Frame - Silver, 42",
                  "Mountain Frames",
                  "1364.5000"
                ],
                [
                  "740",
                  "HL Mountain Frame - Silver, 44",
                  "Mountain Frames",
                  "1364.5000"
                ],
                [
                  "741",
                  "HL Mountain Frame - Silver, 48",
                  "Mountain Frames",
                  "1364.5000"
                ],
                [
                  "742",
                  "HL Mountain Frame - Silver, 46",
                  "Mountain Frames",
                  "1364.5000"
                ],
                [
                  "743",
                  "HL Mountain Frame - Black, 42",
                  "Mountain Frames",
                  "1349.6000"
                ],
                [
                  "744",
                  "HL Mountain Frame - Black, 44",
                  "Mountain Frames",
                  "1349.6000"
                ],
                [
                  "745",
                  "HL Mountain Frame - Black, 48",
                  "Mountain Frames",
                  "1349.6000"
                ],
                [
                  "746",
                  "HL Mountain Frame - Black, 46",
                  "Mountain Frames",
                  "1349.6000"
                ],
                [
                  "747",
                  "HL Mountain Frame - Black, 38",
                  "Mountain Frames",
                  "1349.6000"
                ],
                [
                  "748",
                  "HL Mountain Frame - Silver, 38",
                  "Mountain Frames",
                  "1364.5000"
                ],
                [
                  "814",
                  "ML Mountain Frame - Black, 38",
                  "Mountain Frames",
                  "348.7600"
                ],
                [
                  "830",
                  "ML Mountain Frame - Black, 40",
                  "Mountain Frames",
                  "348.7600"
                ],
                [
                  "831",
                  "ML Mountain Frame - Black, 44",
                  "Mountain Frames",
                  "348.7600"
                ],
                [
                  "832",
                  "ML Mountain Frame - Black, 48",
                  "Mountain Frames",
                  "348.7600"
                ],
                [
                  "924",
                  "LL Mountain Frame - Black, 42",
                  "Mountain Frames",
                  "249.7900"
                ],
                [
                  "925",
                  "LL Mountain Frame - Black, 44",
                  "Mountain Frames",
                  "249.7900"
                ],
                [
                  "926",
                  "LL Mountain Frame - Black, 48",
                  "Mountain Frames",
                  "249.7900"
                ],
                [
                  "927",
                  "LL Mountain Frame - Black, 52",
                  "Mountain Frames",
                  "249.7900"
                ],
                [
                  "917",
                  "LL Mountain Frame - Silver, 42",
                  "Mountain Frames",
                  "264.0500"
                ],
                [
                  "918",
                  "LL Mountain Frame - Silver, 44",
                  "Mountain Frames",
                  "264.0500"
                ],
                [
                  "919",
                  "LL Mountain Frame - Silver, 48",
                  "Mountain Frames",
                  "264.0500"
                ],
                [
                  "920",
                  "LL Mountain Frame - Silver, 52",
                  "Mountain Frames",
                  "264.0500"
                ],
                [
                  "904",
                  "ML Mountain Frame-W - Silver, 40",
                  "Mountain Frames",
                  "364.0900"
                ],
                [
                  "905",
                  "ML Mountain Frame-W - Silver, 42",
                  "Mountain Frames",
                  "364.0900"
                ],
                [
                  "906",
                  "ML Mountain Frame-W - Silver, 46",
                  "Mountain Frames",
                  "364.0900"
                ],
                [
                  "942",
                  "ML Mountain Frame-W - Silver, 38",
                  "Mountain Frames",
                  "364.0900"
                ],
                [
                  "943",
                  "LL Mountain Frame - Black, 40",
                  "Mountain Frames",
                  "249.7900"
                ],
                [
                  "944",
                  "LL Mountain Frame - Silver, 40",
                  "Mountain Frames",
                  "264.0500"
                ],
                [
                  "935",
                  "LL Mountain Pedal",
                  "Pedals",
                  "40.4900"
                ],
                [
                  "936",
                  "ML Mountain Pedal",
                  "Pedals",
                  "62.0900"
                ],
                [
                  "937",
                  "HL Mountain Pedal",
                  "Pedals",
                  "80.9900"
                ],
                [
                  "938",
                  "LL Road Pedal",
                  "Pedals",
                  "40.4900"
                ],
                [
                  "939",
                  "ML Road Pedal",
                  "Pedals",
                  "62.0900"
                ],
                [
                  "940",
                  "HL Road Pedal",
                  "Pedals",
                  "80.9900"
                ],
                [
                  "941",
                  "Touring Pedal",
                  "Pedals",
                  "80.9900"
                ],
                [
                  "833",
                  "ML Road Frame-W - Yellow, 40",
                  "Road Frames",
                  "594.8300"
                ],
                [
                  "834",
                  "ML Road Frame-W - Yellow, 42",
                  "Road Frames",
                  "594.8300"
                ],
                [
                  "835",
                  "ML Road Frame-W - Yellow, 44",
                  "Road Frames",
                  "594.8300"
                ],
                [
                  "836",
                  "ML Road Frame-W - Yellow, 48",
                  "Road Frames",
                  "594.8300"
                ],
                [
                  "837",
                  "HL Road Frame - Black, 62",
                  "Road Frames",
                  "1431.5000"
                ],
                [
                  "838",
                  "HL Road Frame - Black, 44",
                  "Road Frames",
                  "1431.5000"
                ],
                [
                  "839",
                  "HL Road Frame - Black, 48",
                  "Road Frames",
                  "1431.5000"
                ],
                [
                  "840",
                  "HL Road Frame - Black, 52",
                  "Road Frames",
                  "1431.5000"
                ],
                [
                  "822",
                  "ML Road Frame-W - Yellow, 38",
                  "Road Frames",
                  "594.8300"
                ],
                [
                  "680",
                  "HL Road Frame - Black, 58",
                  "Road Frames",
                  "1431.5000"
                ],
                [
                  "706",
                  "HL Road Frame - Red, 58",
                  "Road Frames",
                  "1431.5000"
                ],
                [
                  "717",
                  "HL Road Frame - Red, 62",
                  "Road Frames",
                  "1431.5000"
                ],
                [
                  "718",
                  "HL Road Frame - Red, 44",
                  "Road Frames",
                  "1431.5000"
                ],
                [
                  "719",
                  "HL Road Frame - Red, 48",
                  "Road Frames",
                  "1431.5000"
                ],
                [
                  "720",
                  "HL Road Frame - Red, 52",
                  "Road Frames",
                  "1431.5000"
                ],
                [
                  "721",
                  "HL Road Frame - Red, 56",
                  "Road Frames",
                  "1431.5000"
                ],
                [
                  "722",
                  "LL Road Frame - Black, 58",
                  "Road Frames",
                  "337.2200"
                ],
                [
                  "723",
                  "LL Road Frame - Black, 60",
                  "Road Frames",
                  "337.2200"
                ],
                [
                  "724",
                  "LL Road Frame - Black, 62",
                  "Road Frames",
                  "337.2200"
                ],
                [
                  "725",
                  "LL Road Frame - Red, 44",
                  "Road Frames",
                  "337.2200"
                ],
                [
                  "726",
                  "LL Road Frame - Red, 48",
                  "Road Frames",
                  "337.2200"
                ],
                [
                  "727",
                  "LL Road Frame - Red, 52",
                  "Road Frames",
                  "337.2200"
                ],
                [
                  "728",
                  "LL Road Frame - Red, 58",
                  "Road Frames",
                  "337.2200"
                ],
                [
                  "729",
                  "LL Road Frame - Red, 60",
                  "Road Frames",
                  "337.2200"
                ],
                [
                  "730",
                  "LL Road Frame - Red, 62",
                  "Road Frames",
                  "337.2200"
                ],
                [
                  "731",
                  "ML Road Frame - Red, 44",
                  "Road Frames",
                  "594.8300"
                ],
                [
                  "732",
                  "ML Road Frame - Red, 48",
                  "Road Frames",
                  "594.8300"
                ],
                [
                  "733",
                  "ML Road Frame - Red, 52",
                  "Road Frames",
                  "594.8300"
                ],
                [
                  "734",
                  "ML Road Frame - Red, 58",
                  "Road Frames",
                  "594.8300"
                ],
                [
                  "735",
                  "ML Road Frame - Red, 60",
                  "Road Frames",
                  "594.8300"
                ],
                [
                  "736",
                  "LL Road Frame - Black, 44",
                  "Road Frames",
                  "337.2200"
                ],
                [
                  "737",
                  "LL Road Frame - Black, 48",
                  "Road Frames",
                  "337.2200"
                ],
                [
                  "738",
                  "LL Road Frame - Black, 52",
                  "Road Frames",
                  "337.2200"
                ],
                [
                  "908",
                  "LL Mountain Seat/Saddle",
                  "Saddles",
                  "27.1200"
                ],
                [
                  "909",
                  "ML Mountain Seat/Saddle",
                  "Saddles",
                  "39.1400"
                ],
                [
                  "910",
                  "HL Mountain Seat/Saddle",
                  "Saddles",
                  "52.6400"
                ],
                [
                  "911",
                  "LL Road Seat/Saddle",
                  "Saddles",
                  "27.1200"
                ],
                [
                  "912",
                  "ML Road Seat/Saddle",
                  "Saddles",
                  "39.1400"
                ],
                [
                  "913",
                  "HL Road Seat/Saddle",
                  "Saddles",
                  "52.6400"
                ],
                [
                  "914",
                  "LL Touring Seat/Saddle",
                  "Saddles",
                  "27.1200"
                ],
                [
                  "915",
                  "ML Touring Seat/Saddle",
                  "Saddles",
                  "39.1400"
                ],
                [
                  "916",
                  "HL Touring Seat/Saddle",
                  "Saddles",
                  "52.6400"
                ],
                [
                  "895",
                  "LL Touring Frame - Blue, 50",
                  "Touring Frames",
                  "333.4200"
                ],
                [
                  "896",
                  "LL Touring Frame - Blue, 54",
                  "Touring Frames",
                  "333.4200"
                ],
                [
                  "897",
                  "LL Touring Frame - Blue, 58",
                  "Touring Frames",
                  "333.4200"
                ],
                [
                  "898",
                  "LL Touring Frame - Blue, 62",
                  "Touring Frames",
                  "333.4200"
                ],
                [
                  "899",
                  "LL Touring Frame - Yellow, 44",
                  "Touring Frames",
                  "333.4200"
                ],
                [
                  "900",
                  "LL Touring Frame - Yellow, 50",
                  "Touring Frames",
                  "333.4200"
                ],
                [
                  "901",
                  "LL Touring Frame - Yellow, 54",
                  "Touring Frames",
                  "333.4200"
                ],
                [
                  "902",
                  "LL Touring Frame - Yellow, 58",
                  "Touring Frames",
                  "333.4200"
                ],
                [
                  "903",
                  "LL Touring Frame - Blue, 44",
                  "Touring Frames",
                  "333.4200"
                ],
                [
                  "885",
                  "HL Touring Frame - Yellow, 60",
                  "Touring Frames",
                  "1003.9100"
                ],
                [
                  "886",
                  "LL Touring Frame - Yellow, 62",
                  "Touring Frames",
                  "333.4200"
                ],
                [
                  "887",
                  "HL Touring Frame - Yellow, 46",
                  "Touring Frames",
                  "1003.9100"
                ],
                [
                  "888",
                  "HL Touring Frame - Yellow, 50",
                  "Touring Frames",
                  "1003.9100"
                ],
                [
                  "889",
                  "HL Touring Frame - Yellow, 54",
                  "Touring Frames",
                  "1003.9100"
                ],
                [
                  "890",
                  "HL Touring Frame - Blue, 46",
                  "Touring Frames",
                  "1003.9100"
                ],
                [
                  "891",
                  "HL Touring Frame - Blue, 50",
                  "Touring Frames",
                  "1003.9100"
                ],
                [
                  "892",
                  "HL Touring Frame - Blue, 54",
                  "Touring Frames",
                  "1003.9100"
                ],
                [
                  "893",
                  "HL Touring Frame - Blue, 60",
                  "Touring Frames",
                  "1003.9100"
                ],
                [
                  "823",
                  "LL Mountain Rear Wheel",
                  "Wheels",
                  "87.7450"
                ],
                [
                  "824",
                  "ML Mountain Rear Wheel",
                  "Wheels",
                  "236.0250"
                ],
                [
                  "825",
                  "HL Mountain Rear Wheel",
                  "Wheels",
                  "327.2150"
                ],
                [
                  "826",
                  "LL Road Rear Wheel",
                  "Wheels",
                  "112.5650"
                ],
                [
                  "827",
                  "ML Road Rear Wheel",
                  "Wheels",
                  "275.3850"
                ],
                [
                  "828",
                  "HL Road Rear Wheel",
                  "Wheels",
                  "357.0600"
                ],
                [
                  "829",
                  "Touring Rear Wheel",
                  "Wheels",
                  "245.0100"
                ],
                [
                  "815",
                  "LL Mountain Front Wheel",
                  "Wheels",
                  "60.7450"
                ],
                [
                  "816",
                  "ML Mountain Front Wheel",
                  "Wheels",
                  "209.0250"
                ],
                [
                  "817",
                  "HL Mountain Front Wheel",
                  "Wheels",
                  "300.2150"
                ],
                [
                  "818",
                  "LL Road Front Wheel",
                  "Wheels",
                  "85.5650"
                ],
                [
                  "819",
                  "ML Road Front Wheel",
                  "Wheels",
                  "248.3850"
                ],
                [
                  "820",
                  "HL Road Front Wheel",
                  "Wheels",
                  "330.0600"
                ],
                [
                  "821",
                  "Touring Front Wheel",
                  "Wheels",
                  "218.0100"
                ],
                [
                  "855",
                  "Men's Bib-Shorts, S",
                  "Bib-Shorts",
                  "89.9900"
                ],
                [
                  "856",
                  "Men's Bib-Shorts, M",
                  "Bib-Shorts",
                  "89.9900"
                ],
                [
                  "857",
                  "Men's Bib-Shorts, L",
                  "Bib-Shorts",
                  "89.9900"
                ],
                [
                  "712",
                  "AWC Logo Cap",
                  "Caps",
                  "8.9900"
                ],
                [
                  "858",
                  "Half-Finger Gloves, S",
                  "Gloves",
                  "24.4900"
                ],
                [
                  "859",
                  "Half-Finger Gloves, M",
                  "Gloves",
                  "24.4900"
                ],
                [
                  "860",
                  "Half-Finger Gloves, L",
                  "Gloves",
                  "24.4900"
                ],
                [
                  "861",
                  "Full-Finger Gloves, S",
                  "Gloves",
                  "37.9900"
                ],
                [
                  "862",
                  "Full-Finger Gloves, M",
                  "Gloves",
                  "37.9900"
                ],
                [
                  "863",
                  "Full-Finger Gloves, L",
                  "Gloves",
                  "37.9900"
                ],
                [
                  "713",
                  "Long-Sleeve Logo Jersey, S",
                  "Jerseys",
                  "49.9900"
                ],
                [
                  "714",
                  "Long-Sleeve Logo Jersey, M",
                  "Jerseys",
                  "49.9900"
                ],
                [
                  "715",
                  "Long-Sleeve Logo Jersey, L",
                  "Jerseys",
                  "49.9900"
                ],
                [
                  "716",
                  "Long-Sleeve Logo Jersey, XL",
                  "Jerseys",
                  "49.9900"
                ],
                [
                  "881",
                  "Short-Sleeve Classic Jersey, S",
                  "Jerseys",
                  "53.9900"
                ],
                [
                  "882",
                  "Short-Sleeve Classic Jersey, M",
                  "Jerseys",
                  "53.9900"
                ],
                [
                  "883",
                  "Short-Sleeve Classic Jersey, L",
                  "Jerseys",
                  "53.9900"
                ],
                [
                  "884",
                  "Short-Sleeve Classic Jersey, XL",
                  "Jerseys",
                  "53.9900"
                ],
                [
                  "867",
                  "Women's Mountain Shorts, S",
                  "Shorts",
                  "69.9900"
                ],
                [
                  "868",
                  "Women's Mountain Shorts, M",
                  "Shorts",
                  "69.9900"
                ],
                [
                  "869",
                  "Women's Mountain Shorts, L",
                  "Shorts",
                  "69.9900"
                ],
                [
                  "841",
                  "Men's Sports Shorts, S",
                  "Shorts",
                  "59.9900"
                ],
                [
                  "849",
                  "Men's Sports Shorts, M",
                  "Shorts",
                  "59.9900"
                ],
                [
                  "850",
                  "Men's Sports Shorts, L",
                  "Shorts",
                  "59.9900"
                ],
                [
                  "851",
                  "Men's Sports Shorts, XL",
                  "Shorts",
                  "59.9900"
                ],
                [
                  "709",
                  "Mountain Bike Socks, M",
                  "Socks",
                  "9.5000"
                ],
                [
                  "710",
                  "Mountain Bike Socks, L",
                  "Socks",
                  "9.5000"
                ],
                [
                  "874",
                  "Racing Socks, M",
                  "Socks",
                  "8.9900"
                ],
                [
                  "875",
                  "Racing Socks, L",
                  "Socks",
                  "8.9900"
                ],
                [
                  "852",
                  "Women's Tights, S",
                  "Tights",
                  "74.9900"
                ],
                [
                  "853",
                  "Women's Tights, M",
                  "Tights",
                  "74.9900"
                ],
                [
                  "854",
                  "Women's Tights, L",
                  "Tights",
                  "74.9900"
                ],
                [
                  "864",
                  "Classic Vest, S",
                  "Vests",
                  "63.5000"
                ],
                [
                  "865",
                  "Classic Vest, M",
                  "Vests",
                  "63.5000"
                ],
                [
                  "866",
                  "Classic Vest, L",
                  "Vests",
                  "63.5000"
                ],
                [
                  "876",
                  "Hitch Rack - 4-Bike",
                  "Bike Racks",
                  "120.0000"
                ],
                [
                  "879",
                  "All-Purpose Bike Stand",
                  "Bike Stands",
                  "159.0000"
                ],
                [
                  "870",
                  "Water Bottle - 30 oz.",
                  "Bottles and Cages",
                  "4.9900"
                ],
                [
                  "871",
                  "Mountain Bottle Cage",
                  "Bottles and Cages",
                  "9.9900"
                ],
                [
                  "872",
                  "Road Bottle Cage",
                  "Bottles and Cages",
                  "8.9900"
                ],
                [
                  "877",
                  "Bike Wash - Dissolver",
                  "Cleaners",
                  "7.9500"
                ],
                [
                  "878",
                  "Fender Set - Mountain",
                  "Fenders",
                  "21.9800"
                ],
                [
                  "711",
                  "Sport-100 Helmet, Blue",
                  "Helmets",
                  "34.9900"
                ],
                [
                  "707",
                  "Sport-100 Helmet, Red",
                  "Helmets",
                  "34.9900"
                ],
                [
                  "708",
                  "Sport-100 Helmet, Black",
                  "Helmets",
                  "34.9900"
                ],
                [
                  "880",
                  "Hydration Pack - 70 oz.",
                  "Hydration Packs",
                  "54.9900"
                ],
                [
                  "846",
                  "Taillights - Battery-Powered",
                  "Lights",
                  "13.9900"
                ],
                [
                  "847",
                  "Headlights - Dual-Beam",
                  "Lights",
                  "34.9900"
                ],
                [
                  "848",
                  "Headlights - Weatherproof",
                  "Lights",
                  "44.9900"
                ],
                [
                  "843",
                  "Cable Lock",
                  "Locks",
                  "25.0000"
                ],
                [
                  "842",
                  "Touring-Panniers, Large",
                  "Panniers",
                  "125.0000"
                ],
                [
                  "844",
                  "Minipump",
                  "Pumps",
                  "19.9900"
                ],
                [
                  "845",
                  "Mountain Pump",
                  "Pumps",
                  "24.9900"
                ],
                [
                  "873",
                  "Patch Kit/8 Patches",
                  "Tires and Tubes",
                  "2.2900"
                ],
                [
                  "921",
                  "Mountain Tire Tube",
                  "Tires and Tubes",
                  "4.9900"
                ],
                [
                  "922",
                  "Road Tire Tube",
                  "Tires and Tubes",
                  "3.9900"
                ],
                [
                  "923",
                  "Touring Tire Tube",
                  "Tires and Tubes",
                  "4.9900"
                ],
                [
                  "928",
                  "LL Mountain Tire",
                  "Tires and Tubes",
                  "24.9900"
                ],
                [
                  "929",
                  "ML Mountain Tire",
                  "Tires and Tubes",
                  "29.9900"
                ],
                [
                  "930",
                  "HL Mountain Tire",
                  "Tires and Tubes",
                  "35.0000"
                ],
                [
                  "931",
                  "LL Road Tire",
                  "Tires and Tubes",
                  "21.4900"
                ],
                [
                  "932",
                  "ML Road Tire",
                  "Tires and Tubes",
                  "24.9900"
                ],
                [
                  "933",
                  "HL Road Tire",
                  "Tires and Tubes",
                  "32.6000"
                ],
                [
                  "934",
                  "Touring Tire",
                  "Tires and Tubes",
                  "28.9900"
                ]
              ]
            },
            "text/plain": "<Spark SQL result set with 295 rows and 4 fields>"
          },
          "metadata": {}
        }
      ],
      "execution_count": 46,
      "metadata": {
        "jupyter": {
          "source_hidden": false,
          "outputs_hidden": false
        },
        "nteract": {
          "transient": {
            "deleting": false
          }
        },
        "microsoft": {
          "language": "sparksql"
        },
        "collapsed": false
      }
    },
    {
      "cell_type": "code",
      "source": [
        "from notebookutils import mssparkutils\r\n",
        "from pyspark.sql.types import *\r\n",
        "from pyspark.sql.functions import *\r\n",
        "\r\n",
        "inputPath='/data/'\r\n",
        "mssparkutils.fs.mkdirs(inputPath)\r\n",
        "\r\n",
        "jsonSchema = StructType([\r\n",
        "    StructField(\"device\", StringType(),False),\r\n",
        "    StructField(\"status\", StringType(), False)\r\n",
        "])\r\n",
        "\r\n",
        "iotstream = spark.readStream.schema(jsonSchema).option(\"maxFilesPerTrigger\", 1).json(inputPath)\r\n",
        "device_data = '''{\"device\":\"Dev1\",\"status\":\"ok\"}\r\n",
        " {\"device\":\"Dev1\",\"status\":\"ok\"}\r\n",
        " {\"device\":\"Dev1\",\"status\":\"ok\"}\r\n",
        " {\"device\":\"Dev2\",\"status\":\"error\"}\r\n",
        " {\"device\":\"Dev1\",\"status\":\"ok\"}\r\n",
        " {\"device\":\"Dev1\",\"status\":\"error\"}\r\n",
        " {\"device\":\"Dev2\",\"status\":\"ok\"}\r\n",
        " {\"device\":\"Dev2\",\"status\":\"error\"}\r\n",
        " {\"device\":\"Dev1\",\"status\":\"ok\"}'''\r\n",
        "mssparkutils.fs.put(inputPath + \"data.txt\", device_data, True)\r\n",
        "print(\"Source stream created...\")"
      ],
      "outputs": [
        {
          "output_type": "display_data",
          "data": {
            "application/vnd.livy.statement-meta+json": {
              "spark_pool": "sparka83eylv",
              "statement_id": 57,
              "statement_ids": [
                57
              ],
              "state": "finished",
              "livy_statement_state": "available",
              "spark_jobs": null,
              "session_id": "0",
              "normalized_state": "finished",
              "queued_time": "2025-01-05T12:48:18.4034838Z",
              "session_start_time": null,
              "execution_start_time": "2025-01-05T12:48:18.5516509Z",
              "execution_finish_time": "2025-01-05T12:48:20.4634238Z",
              "parent_msg_id": "8226c7a7-9012-416c-8628-908a563c747f"
            },
            "text/plain": "StatementMeta(sparka83eylv, 0, 57, Finished, Available, Finished)"
          },
          "metadata": {}
        },
        {
          "output_type": "stream",
          "name": "stdout",
          "text": [
            "Source stream created...\n"
          ]
        }
      ],
      "execution_count": 48,
      "metadata": {
        "jupyter": {
          "source_hidden": false,
          "outputs_hidden": false
        },
        "nteract": {
          "transient": {
            "deleting": false
          }
        }
      }
    },
    {
      "cell_type": "code",
      "source": [
        "delta_stream_table_path = '/delta/iotdevicedata'\r\n",
        "checkpointpath = '/delta/checkpoint'\r\n",
        "deltastream = iotstream.writeStream.format('delta').option('checkpointLocation', checkpointpath).start(delta_stream_table_path)\r\n",
        "print(\"Streaming to delta sink...\")"
      ],
      "outputs": [
        {
          "output_type": "display_data",
          "data": {
            "application/vnd.livy.statement-meta+json": {
              "spark_pool": "sparka83eylv",
              "statement_id": 58,
              "statement_ids": [
                58
              ],
              "state": "finished",
              "livy_statement_state": "available",
              "spark_jobs": null,
              "session_id": "0",
              "normalized_state": "finished",
              "queued_time": "2025-01-05T12:52:25.382918Z",
              "session_start_time": null,
              "execution_start_time": "2025-01-05T12:52:25.5802731Z",
              "execution_finish_time": "2025-01-05T12:52:26.1541645Z",
              "parent_msg_id": "213b9cb4-cc7b-40e0-a7ad-be4a9ea909f8"
            },
            "text/plain": "StatementMeta(sparka83eylv, 0, 58, Finished, Available, Finished)"
          },
          "metadata": {}
        },
        {
          "output_type": "stream",
          "name": "stdout",
          "text": [
            "Streaming to delta sink...\n"
          ]
        }
      ],
      "execution_count": 49,
      "metadata": {
        "jupyter": {
          "source_hidden": false,
          "outputs_hidden": false
        },
        "nteract": {
          "transient": {
            "deleting": false
          }
        }
      }
    },
    {
      "cell_type": "code",
      "source": [
        " # Read the data in delta format into a dataframe\r\n",
        " df = spark.read.format(\"delta\").load(delta_stream_table_path)\r\n",
        " display(df)"
      ],
      "outputs": [
        {
          "output_type": "display_data",
          "data": {
            "application/vnd.livy.statement-meta+json": {
              "spark_pool": "sparka83eylv",
              "statement_id": 59,
              "statement_ids": [
                59
              ],
              "state": "finished",
              "livy_statement_state": "available",
              "spark_jobs": null,
              "session_id": "0",
              "normalized_state": "finished",
              "queued_time": "2025-01-05T12:52:45.5994828Z",
              "session_start_time": null,
              "execution_start_time": "2025-01-05T12:52:45.7444507Z",
              "execution_finish_time": "2025-01-05T12:52:48.6186705Z",
              "parent_msg_id": "824d831d-a94c-43d9-bb6b-0f50ce57fbb1"
            },
            "text/plain": "StatementMeta(sparka83eylv, 0, 59, Finished, Available, Finished)"
          },
          "metadata": {}
        },
        {
          "output_type": "display_data",
          "data": {
            "application/vnd.synapse.widget-view+json": {
              "widget_id": "c803c4bb-7ffc-47d2-b6a5-d84505bf9f47",
              "widget_type": "Synapse.DataFrame"
            },
            "text/plain": "SynapseWidget(Synapse.DataFrame, c803c4bb-7ffc-47d2-b6a5-d84505bf9f47)"
          },
          "metadata": {}
        }
      ],
      "execution_count": 50,
      "metadata": {
        "jupyter": {
          "source_hidden": false,
          "outputs_hidden": false
        },
        "nteract": {
          "transient": {
            "deleting": false
          }
        },
        "collapsed": false
      }
    },
    {
      "cell_type": "code",
      "source": [
        " # create a catalog table based on the streaming sink\r\n",
        " spark.sql(\"CREATE TABLE IotDeviceData USING DELTA LOCATION '{0}'\".format(delta_stream_table_path))"
      ],
      "outputs": [
        {
          "output_type": "display_data",
          "data": {
            "application/vnd.livy.statement-meta+json": {
              "spark_pool": "sparka83eylv",
              "statement_id": 60,
              "statement_ids": [
                60
              ],
              "state": "finished",
              "livy_statement_state": "available",
              "spark_jobs": null,
              "session_id": "0",
              "normalized_state": "finished",
              "queued_time": "2025-01-05T12:55:18.9422922Z",
              "session_start_time": null,
              "execution_start_time": "2025-01-05T12:55:19.1282376Z",
              "execution_finish_time": "2025-01-05T12:55:21.0473689Z",
              "parent_msg_id": "9e901299-555b-4699-9a45-1b29331b69b2"
            },
            "text/plain": "StatementMeta(sparka83eylv, 0, 60, Finished, Available, Finished)"
          },
          "metadata": {}
        },
        {
          "output_type": "execute_result",
          "execution_count": 91,
          "data": {
            "text/plain": "DataFrame[]"
          },
          "metadata": {}
        }
      ],
      "execution_count": 51,
      "metadata": {
        "jupyter": {
          "source_hidden": false,
          "outputs_hidden": false
        },
        "nteract": {
          "transient": {
            "deleting": false
          }
        }
      }
    },
    {
      "cell_type": "code",
      "source": [
        " %%sql\r\n",
        "\r\n",
        " SELECT * FROM IotDeviceData;"
      ],
      "outputs": [
        {
          "output_type": "display_data",
          "data": {
            "application/vnd.livy.statement-meta+json": {
              "spark_pool": "sparka83eylv",
              "statement_id": 61,
              "statement_ids": [
                61
              ],
              "state": "finished",
              "livy_statement_state": "available",
              "spark_jobs": null,
              "session_id": "0",
              "normalized_state": "finished",
              "queued_time": "2025-01-05T12:55:31.0084059Z",
              "session_start_time": null,
              "execution_start_time": "2025-01-05T12:55:31.1672285Z",
              "execution_finish_time": "2025-01-05T12:55:32.3008063Z",
              "parent_msg_id": "a58b7f86-9ab0-4e50-b7d6-e6bff43ba855"
            },
            "text/plain": "StatementMeta(sparka83eylv, 0, 61, Finished, Available, Finished)"
          },
          "metadata": {}
        },
        {
          "output_type": "execute_result",
          "execution_count": 52,
          "data": {
            "application/vnd.synapse.sparksql-result+json": {
              "schema": {
                "type": "struct",
                "fields": [
                  {
                    "name": "device",
                    "type": "string",
                    "nullable": true,
                    "metadata": {}
                  },
                  {
                    "name": "status",
                    "type": "string",
                    "nullable": true,
                    "metadata": {}
                  }
                ]
              },
              "data": [
                [
                  "Dev1",
                  "ok"
                ],
                [
                  "Dev1",
                  "ok"
                ],
                [
                  "Dev1",
                  "ok"
                ],
                [
                  "Dev2",
                  "error"
                ],
                [
                  "Dev1",
                  "ok"
                ],
                [
                  "Dev1",
                  "error"
                ],
                [
                  "Dev2",
                  "ok"
                ],
                [
                  "Dev2",
                  "error"
                ],
                [
                  "Dev1",
                  "ok"
                ]
              ]
            },
            "text/plain": "<Spark SQL result set with 9 rows and 2 fields>"
          },
          "metadata": {}
        }
      ],
      "execution_count": 52,
      "metadata": {
        "jupyter": {
          "source_hidden": false,
          "outputs_hidden": false
        },
        "nteract": {
          "transient": {
            "deleting": false
          }
        },
        "microsoft": {
          "language": "sparksql"
        },
        "collapsed": false
      }
    },
    {
      "cell_type": "code",
      "source": [
        "from notebookutils import mssparkutils\r\n",
        "from pyspark.sql.types import *\r\n",
        "from pyspark.sql.functions import *\r\n",
        "\r\n",
        "more_data = '''{\"device\":\"Dev1\",\"status\":\"ok\"}\r\n",
        " {\"device\":\"Dev1\",\"status\":\"ok\"}\r\n",
        " {\"device\":\"Dev1\",\"status\":\"ok\"}\r\n",
        " {\"device\":\"Dev1\",\"status\":\"ok\"}\r\n",
        " {\"device\":\"Dev1\",\"status\":\"error\"}\r\n",
        " {\"device\":\"Dev2\",\"status\":\"error\"}\r\n",
        " {\"device\":\"Dev1\",\"status\":\"ok\"}'''\r\n",
        "\r\n",
        "mssparkutils.fs.put(inputPath + \"more-data.txt\", more_data, True)"
      ],
      "outputs": [
        {
          "output_type": "display_data",
          "data": {
            "application/vnd.livy.statement-meta+json": {
              "spark_pool": "sparka83eylv",
              "statement_id": 64,
              "statement_ids": [
                64
              ],
              "state": "finished",
              "livy_statement_state": "available",
              "spark_jobs": null,
              "session_id": "0",
              "normalized_state": "finished",
              "queued_time": "2025-01-05T12:56:34.7056733Z",
              "session_start_time": null,
              "execution_start_time": "2025-01-05T12:56:34.8777465Z",
              "execution_finish_time": "2025-01-05T12:56:35.0598628Z",
              "parent_msg_id": "2e6e369f-6ec4-4dea-ba92-d812601fbca6"
            },
            "text/plain": "StatementMeta(sparka83eylv, 0, 64, Finished, Available, Finished)"
          },
          "metadata": {}
        },
        {
          "output_type": "execute_result",
          "execution_count": 97,
          "data": {
            "text/plain": "True"
          },
          "metadata": {}
        }
      ],
      "execution_count": 55,
      "metadata": {
        "jupyter": {
          "source_hidden": false,
          "outputs_hidden": false
        },
        "nteract": {
          "transient": {
            "deleting": false
          }
        }
      }
    },
    {
      "cell_type": "code",
      "source": [
        " %%sql\r\n",
        "\r\n",
        " SELECT * FROM IotDeviceData;"
      ],
      "outputs": [
        {
          "output_type": "display_data",
          "data": {
            "application/vnd.livy.statement-meta+json": {
              "spark_pool": "sparka83eylv",
              "statement_id": 65,
              "statement_ids": [
                65
              ],
              "state": "finished",
              "livy_statement_state": "available",
              "spark_jobs": null,
              "session_id": "0",
              "normalized_state": "finished",
              "queued_time": "2025-01-05T12:56:51.4085836Z",
              "session_start_time": null,
              "execution_start_time": "2025-01-05T12:56:51.5414491Z",
              "execution_finish_time": "2025-01-05T12:56:54.3939487Z",
              "parent_msg_id": "955976e6-8b51-4f79-ab81-613e84169f4b"
            },
            "text/plain": "StatementMeta(sparka83eylv, 0, 65, Finished, Available, Finished)"
          },
          "metadata": {}
        },
        {
          "output_type": "execute_result",
          "execution_count": 56,
          "data": {
            "application/vnd.synapse.sparksql-result+json": {
              "schema": {
                "type": "struct",
                "fields": [
                  {
                    "name": "device",
                    "type": "string",
                    "nullable": true,
                    "metadata": {}
                  },
                  {
                    "name": "status",
                    "type": "string",
                    "nullable": true,
                    "metadata": {}
                  }
                ]
              },
              "data": [
                [
                  "Dev1",
                  "ok"
                ],
                [
                  "Dev1",
                  "ok"
                ],
                [
                  "Dev1",
                  "ok"
                ],
                [
                  "Dev2",
                  "error"
                ],
                [
                  "Dev1",
                  "ok"
                ],
                [
                  "Dev1",
                  "error"
                ],
                [
                  "Dev2",
                  "ok"
                ],
                [
                  "Dev2",
                  "error"
                ],
                [
                  "Dev1",
                  "ok"
                ],
                [
                  "Dev1",
                  "ok"
                ],
                [
                  "Dev1",
                  "ok"
                ],
                [
                  "Dev1",
                  "ok"
                ],
                [
                  "Dev1",
                  "ok"
                ],
                [
                  "Dev1",
                  "error"
                ],
                [
                  "Dev2",
                  "error"
                ],
                [
                  "Dev1",
                  "ok"
                ]
              ]
            },
            "text/plain": "<Spark SQL result set with 16 rows and 2 fields>"
          },
          "metadata": {}
        }
      ],
      "execution_count": 56,
      "metadata": {
        "jupyter": {
          "source_hidden": false,
          "outputs_hidden": false
        },
        "nteract": {
          "transient": {
            "deleting": false
          }
        },
        "microsoft": {
          "language": "sparksql"
        },
        "collapsed": false
      }
    },
    {
      "cell_type": "code",
      "source": [
        " deltastream.stop()"
      ],
      "outputs": [
        {
          "output_type": "display_data",
          "data": {
            "application/vnd.livy.statement-meta+json": {
              "spark_pool": "sparka83eylv",
              "statement_id": 66,
              "statement_ids": [
                66
              ],
              "state": "finished",
              "livy_statement_state": "available",
              "spark_jobs": null,
              "session_id": "0",
              "normalized_state": "finished",
              "queued_time": "2025-01-05T12:57:16.8344917Z",
              "session_start_time": null,
              "execution_start_time": "2025-01-05T12:57:16.9719242Z",
              "execution_finish_time": "2025-01-05T12:57:17.1508599Z",
              "parent_msg_id": "eef4bb6c-1c8b-4d8d-aa2a-f7297412d9f4"
            },
            "text/plain": "StatementMeta(sparka83eylv, 0, 66, Finished, Available, Finished)"
          },
          "metadata": {}
        }
      ],
      "execution_count": 57,
      "metadata": {
        "jupyter": {
          "source_hidden": false,
          "outputs_hidden": false
        },
        "nteract": {
          "transient": {
            "deleting": false
          }
        }
      }
    }
  ],
  "metadata": {
    "language_info": {
      "name": "python"
    },
    "kernelspec": {
      "name": "synapse_pyspark",
      "language": "Python",
      "display_name": "Synapse PySpark"
    },
    "kernel_info": {
      "name": "synapse_pyspark"
    },
    "save_output": true,
    "synapse_widget": {
      "version": "0.1",
      "state": {
        "0d060041-3305-4824-9ce5-07855b44c461": {
          "type": "Synapse.DataFrame",
          "sync_state": {
            "table": {
              "rows": [
                {
                  "0": "771",
                  "1": "Mountain-100 Silver, 38",
                  "2": "Mountain Bikes",
                  "3": "3399.9900"
                },
                {
                  "0": "772",
                  "1": "Mountain-100 Silver, 42",
                  "2": "Mountain Bikes",
                  "3": "3399.9900"
                },
                {
                  "0": "773",
                  "1": "Mountain-100 Silver, 44",
                  "2": "Mountain Bikes",
                  "3": "3399.9900"
                },
                {
                  "0": "774",
                  "1": "Mountain-100 Silver, 48",
                  "2": "Mountain Bikes",
                  "3": "3399.9900"
                },
                {
                  "0": "775",
                  "1": "Mountain-100 Black, 38",
                  "2": "Mountain Bikes",
                  "3": "3374.9900"
                },
                {
                  "0": "776",
                  "1": "Mountain-100 Black, 42",
                  "2": "Mountain Bikes",
                  "3": "3374.9900"
                },
                {
                  "0": "777",
                  "1": "Mountain-100 Black, 44",
                  "2": "Mountain Bikes",
                  "3": "3374.9900"
                },
                {
                  "0": "778",
                  "1": "Mountain-100 Black, 48",
                  "2": "Mountain Bikes",
                  "3": "3374.9900"
                },
                {
                  "0": "779",
                  "1": "Mountain-200 Silver, 38",
                  "2": "Mountain Bikes",
                  "3": "2319.9900"
                },
                {
                  "0": "780",
                  "1": "Mountain-200 Silver, 42",
                  "2": "Mountain Bikes",
                  "3": "2319.9900"
                }
              ],
              "schema": [
                {
                  "key": "0",
                  "name": "ProductID",
                  "type": "string"
                },
                {
                  "key": "1",
                  "name": "ProductName",
                  "type": "string"
                },
                {
                  "key": "2",
                  "name": "Category",
                  "type": "string"
                },
                {
                  "key": "3",
                  "name": "ListPrice",
                  "type": "string"
                }
              ],
              "truncated": false
            },
            "isSummary": false,
            "language": "scala",
            "wranglerEntryContext": {
              "dataframeType": "pyspark"
            }
          },
          "persist_state": {
            "view": {
              "type": "details",
              "tableOptions": {},
              "chartOptions": {
                "chartType": "bar",
                "aggregationType": "count",
                "categoryFieldKeys": [
                  "0"
                ],
                "seriesFieldKeys": [
                  "0"
                ],
                "isStacked": false
              }
            }
          }
        },
        "c803c4bb-7ffc-47d2-b6a5-d84505bf9f47": {
          "type": "Synapse.DataFrame",
          "sync_state": {
            "table": {
              "rows": [
                {
                  "0": "Dev1",
                  "1": "ok"
                },
                {
                  "0": "Dev1",
                  "1": "ok"
                },
                {
                  "0": "Dev1",
                  "1": "ok"
                },
                {
                  "0": "Dev2",
                  "1": "error"
                },
                {
                  "0": "Dev1",
                  "1": "ok"
                },
                {
                  "0": "Dev1",
                  "1": "error"
                },
                {
                  "0": "Dev2",
                  "1": "ok"
                },
                {
                  "0": "Dev2",
                  "1": "error"
                },
                {
                  "0": "Dev1",
                  "1": "ok"
                }
              ],
              "schema": [
                {
                  "key": "0",
                  "name": "device",
                  "type": "string"
                },
                {
                  "key": "1",
                  "name": "status",
                  "type": "string"
                }
              ],
              "truncated": false
            },
            "isSummary": false,
            "language": "scala",
            "wranglerEntryContext": {
              "candidateVariableNames": [
                "df"
              ],
              "dataframeType": "pyspark"
            }
          },
          "persist_state": {
            "view": {
              "type": "details",
              "tableOptions": {},
              "chartOptions": {
                "chartType": "bar",
                "aggregationType": "count",
                "categoryFieldKeys": [
                  "0"
                ],
                "seriesFieldKeys": [
                  "0"
                ],
                "isStacked": false
              }
            }
          }
        }
      }
    }
  },
  "nbformat": 4,
  "nbformat_minor": 2
}